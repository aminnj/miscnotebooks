{
 "cells": [
  {
   "cell_type": "code",
   "execution_count": 1,
   "metadata": {},
   "outputs": [
    {
     "name": "stderr",
     "output_type": "stream",
     "text": [
      "/Library/Python/2.7/site-packages/sklearn/utils/__init__.py:10: RuntimeWarning: numpy.dtype size changed, may indicate binary incompatibility. Expected 96, got 88\n",
      "  from .murmurhash import murmurhash3_32\n",
      "/Library/Python/2.7/site-packages/sklearn/utils/extmath.py:24: RuntimeWarning: numpy.dtype size changed, may indicate binary incompatibility. Expected 96, got 88\n",
      "  from ._logistic_sigmoid import _log_logistic_sigmoid\n",
      "/Library/Python/2.7/site-packages/sklearn/utils/extmath.py:26: RuntimeWarning: numpy.dtype size changed, may indicate binary incompatibility. Expected 96, got 88\n",
      "  from .sparsefuncs_fast import csr_row_norms\n",
      "/Library/Python/2.7/site-packages/sklearn/metrics/cluster/supervised.py:23: RuntimeWarning: numpy.dtype size changed, may indicate binary incompatibility. Expected 96, got 88\n",
      "  from .expected_mutual_info_fast import expected_mutual_information\n",
      "/Library/Python/2.7/site-packages/sklearn/metrics/pairwise.py:30: RuntimeWarning: numpy.dtype size changed, may indicate binary incompatibility. Expected 96, got 88\n",
      "  from .pairwise_fast import _chi2_kernel_fast, _sparse_manhattan\n",
      "/Library/Python/2.7/site-packages/sklearn/utils/random.py:10: RuntimeWarning: numpy.dtype size changed, may indicate binary incompatibility. Expected 96, got 88\n",
      "  from ._random import sample_without_replacement\n",
      "/Library/Python/2.7/site-packages/h5py/__init__.py:36: RuntimeWarning: numpy.dtype size changed, may indicate binary incompatibility. Expected 96, got 88\n",
      "  from ._conv import register_converters as _register_converters\n",
      "/Library/Python/2.7/site-packages/h5py/__init__.py:36: FutureWarning: Conversion of the second argument of issubdtype from `float` to `np.floating` is deprecated. In future, it will be treated as `np.float64 == np.dtype(float).type`.\n",
      "  from ._conv import register_converters as _register_converters\n",
      "/Library/Python/2.7/site-packages/h5py/__init__.py:45: RuntimeWarning: numpy.dtype size changed, may indicate binary incompatibility. Expected 96, got 88\n",
      "  from . import h5a, h5d, h5ds, h5f, h5fd, h5g, h5r, h5s, h5t, h5p, h5z\n",
      "/Library/Python/2.7/site-packages/h5py/_hl/group.py:22: RuntimeWarning: numpy.dtype size changed, may indicate binary incompatibility. Expected 96, got 88\n",
      "  from .. import h5g, h5i, h5o, h5r, h5t, h5l, h5p\n",
      "Using TensorFlow backend.\n",
      "/Library/Python/2.7/site-packages/requests/__init__.py:80: RequestsDependencyWarning: urllib3 (1.25.2) or chardet (3.0.4) doesn't match a supported version!\n",
      "  RequestsDependencyWarning)\n",
      "/Library/Python/2.7/site-packages/requests/__init__.py:80: RequestsDependencyWarning: urllib3 (1.25.2) or chardet (3.0.4) doesn't match a supported version!\n",
      "  RequestsDependencyWarning)\n"
     ]
    }
   ],
   "source": [
    "%matplotlib inline\n",
    "\n",
    "import os\n",
    "import time\n",
    "import pickle\n",
    "from multiprocessing import Pool as ThreadPool\n",
    "\n",
    "import numpy as np\n",
    "from scipy.signal import convolve2d\n",
    "from scipy.optimize import curve_fit\n",
    "import matplotlib.pyplot as plt\n",
    "from sklearn.model_selection import train_test_split\n",
    "\n",
    "import keras\n",
    "from keras.models import Sequential\n",
    "from keras.layers import Dense, Dropout, Flatten\n",
    "from keras.layers import Conv2D, MaxPooling2D\n",
    "\n",
    "from tqdm import tqdm\n",
    "\n",
    "np.random.seed(42)"
   ]
  },
  {
   "cell_type": "code",
   "execution_count": 2,
   "metadata": {},
   "outputs": [],
   "source": [
    "# define some constants.\n",
    "\n",
    "Tc = 2.0/np.log(1.+2**0.5)\n",
    "\n",
    "# can flip this to -1 to get an anti-ferromagnetic hamiltonian\n",
    "H_CONSTANT = 1.\n"
   ]
  },
  {
   "cell_type": "code",
   "execution_count": 3,
   "metadata": {},
   "outputs": [],
   "source": [
    "class Lattice(object):\n",
    "    \"\"\"\n",
    "    Convenience class so you can do stuff like\n",
    "    >>> lat = Lattice(N=10,T=5.0)\n",
    "    >>> print lat.lattice\n",
    "    >>> print lat.get_energy()\n",
    "    >>> for _ in range(100): lat.step()\n",
    "    >>> print lat.lattice\n",
    "    >>> print lat.get_energy()\n",
    "    easily.\n",
    "    \"\"\"\n",
    "\n",
    "    def __init__(self, N=10, T=1.0):\n",
    "        self.N = N\n",
    "        self.T = T\n",
    "        self.lattice = None\n",
    "        self.neighbor_filter = np.array([\n",
    "            [0,1,0],\n",
    "            [1,0,1],\n",
    "            [0,1,0]\n",
    "            ])\n",
    "\n",
    "        self.initialize()\n",
    "\n",
    "    def initialize(self):\n",
    "        \"\"\"\n",
    "        Initialize lattice points to -1 or 1 randomly\n",
    "        \"\"\"\n",
    "        self.lattice = 2*np.random.randint(2, size=(self.N,self.N))-1\n",
    "\n",
    "    def step(self):\n",
    "        \"\"\"\n",
    "        Every iteration, select N^2 random points to try a flip attempt.\n",
    "        A flip attempt consists of checking the change in energy due to a flip.\n",
    "        If it is negative or less than exp(-E/(k_b*T)), then perform the flip.\n",
    "        \"\"\"\n",
    "        for istep in range(self.N**2):\n",
    "            ix = np.random.randint(0,self.N)\n",
    "            iy = np.random.randint(0,self.N)\n",
    "            s = self.lattice[ix,iy]\n",
    "            neighbor_sum = self.lattice[(ix+1)%self.N,iy] + \\\n",
    "                           self.lattice[(ix-1)%self.N,iy] + \\\n",
    "                           self.lattice[ix,(iy+1)%self.N] + \\\n",
    "                           self.lattice[ix,(iy-1)%self.N]\n",
    "            dE = H_CONSTANT*2*s*neighbor_sum\n",
    "            if dE < 0 or np.random.rand() < np.exp(-1.0*dE/self.T):\n",
    "                s *= -1\n",
    "            self.lattice[ix,iy] = s\n",
    "\n",
    "    def get_neighbor_sum_matrix(self):\n",
    "        \"\"\"\n",
    "        While not as efficient as computing the energy once at the beginning\n",
    "        and adding the dE every step(), this is quite *fast* and elegant.\n",
    "        Use a 3x3 filter for adjacent neighbors and convolve this across\n",
    "        the lattice. \"wrap\" boundary option will handle the periodic BCs.\n",
    "        This returns a NxN matrix of the sum of neighbor spins for each point.\n",
    "        \"\"\"\n",
    "        return convolve2d(self.lattice,self.neighbor_filter,mode=\"same\",boundary=\"wrap\")\n",
    "\n",
    "    def get_energy(self):\n",
    "        \"\"\"\n",
    "        We can write the hamiltonian using optimized operations now\n",
    "        \"\"\"\n",
    "        return -H_CONSTANT*(self.lattice*self.get_neighbor_sum_matrix()).sum()\n",
    "    \n",
    "    def get_avg_magnetization(self):\n",
    "        return 1.0 * self.lattice.sum() / self.N**2\n",
    "\n",
    "    def __repr__(self):\n",
    "        return str(self.lattice)"
   ]
  },
  {
   "cell_type": "code",
   "execution_count": 4,
   "metadata": {},
   "outputs": [
    {
     "name": "stdout",
     "output_type": "stream",
     "text": [
      "[[ 1  1  1  1 -1 -1 -1 -1 -1  1]\n",
      " [ 1  1  1  1  1  1 -1 -1 -1  1]\n",
      " [ 1  1  1 -1 -1 -1  1 -1 -1  1]\n",
      " [ 1  1  1 -1  1  1  1  1 -1  1]\n",
      " [ 1  1  1  1  1 -1  1  1 -1 -1]\n",
      " [ 1  1  1 -1 -1  1 -1  1  1 -1]\n",
      " [ 1  1 -1 -1 -1 -1 -1  1 -1 -1]\n",
      " [ 1  1  1  1 -1 -1  1 -1  1  1]\n",
      " [ 1 -1  1  1  1  1 -1 -1  1  1]\n",
      " [ 1  1  1  1 -1  1  1  1  1  1]]\n"
     ]
    }
   ],
   "source": [
    "# Example\n",
    "lat = Lattice(10,T=4.5)\n",
    "for _ in range(30): lat.step()\n",
    "print lat.lattice # (or even `print lat` to use the convenient repr)"
   ]
  },
  {
   "cell_type": "code",
   "execution_count": 5,
   "metadata": {},
   "outputs": [
    {
     "name": "stderr",
     "output_type": "stream",
     "text": [
      "6it [00:08,  1.53s/it]\n"
     ]
    },
    {
     "data": {
      "image/png": "[encoded data removed]",
      "text/plain": [
       "<Figure size 432x288 with 6 Axes>"
      ]
     },
     "metadata": {
      "needs_background": "light"
     },
     "output_type": "display_data"
    }
   ],
   "source": [
    "# Plot the spin configurations for varying temperatures.\n",
    "# Display the magnetization too\n",
    "nrows, ncols = 2,3\n",
    "fig, axs = plt.subplots(nrows,ncols)\n",
    "fig.subplots_adjust(wspace=0.6)\n",
    "for ip,T in tqdm(enumerate([5.0,4.0,3.0,2.3,2.0,1.0])):\n",
    "    lat = Lattice(N=16,T=T)\n",
    "    for _ in range(500): lat.step()\n",
    "    idx = ip // ncols, ip % ncols\n",
    "    axs[idx].matshow(lat.lattice,cmap=plt.cm.gray_r)\n",
    "    axs[idx].set_title(\"T = {:.1f}, $m$={:.1f}\".format(T,lat.get_avg_magnetization()))\n",
    "    axs[idx].get_xaxis().set_visible(False)\n",
    "    axs[idx].get_yaxis().set_visible(False)"
   ]
  },
  {
   "cell_type": "code",
   "execution_count": 16,
   "metadata": {},
   "outputs": [],
   "source": [
    "# For a temperature range, thermalize a lattice, then\n",
    "# take a few hundred steps, recording energy and magnetization\n",
    "# store the means to plot next.\n",
    "# This takes about 60s with one modern core.\n",
    "points = []\n",
    "for T in np.arange(4.0,1.0,-0.025):\n",
    "    lat = Lattice(N=10,T=T)\n",
    "    for _ in range(500): lat.step()\n",
    "    Es = []\n",
    "    Ms = []\n",
    "    for _ in range(200): \n",
    "        lat.step()\n",
    "        Es.append(lat.get_energy())\n",
    "        Ms.append(lat.get_avg_magnetization())\n",
    "    Es = np.array(Es)\n",
    "    Ms = np.array(Ms)\n",
    "    points.append((T,Es.mean(),np.abs(Ms.mean())))\n",
    "points = np.array(points)"
   ]
  },
  {
   "cell_type": "code",
   "execution_count": 17,
   "metadata": {},
   "outputs": [
    {
     "data": {
      "image/png": "[encoded data removed]",
      "text/plain": [
       "<Figure size 432x288 with 2 Axes>"
      ]
     },
     "metadata": {
      "needs_background": "light"
     },
     "output_type": "display_data"
    }
   ],
   "source": [
    "# Plot the energy and magnetization vs temperature\n",
    "\n",
    "fig, axs = plt.subplots(2,1,sharex=True)\n",
    "axs[0].plot(points[:,0],points[:,1], label=\"E\")\n",
    "axs[0].axvline(x=Tc,linestyle='-', color=\"orange\",linewidth=2.0, label=\"$T_c$ ({:.3f})\".format(Tc))\n",
    "axs[0].set_ylabel(\"Energy\")\n",
    "axs[0].set_title(\"Energy vs Temperature [L = 10]\")\n",
    "axs[0].legend(loc=\"best\", numpoints=1)\n",
    "axs[0].grid(True)\n",
    "\n",
    "axs[1].plot(points[:,0],points[:,2], label=\"$|m|$\")\n",
    "axs[1].axvline(x=Tc,linestyle='-', color=\"orange\",linewidth=2.0, label=\"$T_c$ ({:.3f})\".format(Tc))\n",
    "axs[1].set_xlabel(\"T\")\n",
    "axs[1].set_ylabel(\"$|m|$\")\n",
    "axs[1].set_title(\"Magnetization vs Temperature [L = 10]\")\n",
    "axs[1].legend(loc=\"best\", numpoints=1)\n",
    "axs[1].grid(True)"
   ]
  },
  {
   "cell_type": "code",
   "execution_count": 18,
   "metadata": {},
   "outputs": [
    {
     "name": "stdout",
     "output_type": "stream",
     "text": [
      "5.0\n",
      "4.5\n",
      "4.7\n",
      "4.9\n",
      "4.8\n",
      "4.6\n",
      "4.4\n",
      "4.0\n",
      "4.3\n",
      "3.9\n",
      "4.2\n",
      "4.1\n",
      "3.8\n",
      "3.5\n",
      "3.7\n",
      "3.4\n",
      "3.6\n",
      "3.3\n",
      "3.2\n",
      "3.1\n",
      "3.0\n",
      "2.9\n",
      "2.8\n",
      "2.7\n",
      "2.6\n",
      "2.5\n",
      "2.4\n",
      "2.3\n",
      "2.1\n",
      "2.2\n",
      "2.0\n",
      "1.9\n",
      "1.8\n",
      "1.7\n",
      "1.6\n",
      "1.5\n",
      "1.4\n",
      "1.3\n",
      "1.2\n",
      "1.1\n",
      ">>> Dumped to ising_config_data_small.pkl\n"
     ]
    }
   ],
   "source": [
    "# Use 6 threads to run some lattice evolutions\n",
    "# With current parameters, this took a minute or two on an i7\n",
    "# Dump out the lattice configurations/temperatures to a file\n",
    "# and just load it if the file already exists, since this\n",
    "# is a CPU intensive cell.\n",
    "\n",
    "fname = \"ising_config_data_small.pkl\"\n",
    "\n",
    "def get_lattices(T,N=10,Nlattices=25,Nthermal=200):\n",
    "    lattices = []\n",
    "    for _ in range(Nlattices):\n",
    "        lat = Lattice(N=N,T=T)\n",
    "        for _ in range(Nthermal):\n",
    "            lat.step()\n",
    "        lattices.append(lat.lattice)\n",
    "    return round(T,4),lattices\n",
    "\n",
    "if not os.path.exists(fname):\n",
    "    pool = ThreadPool(6)\n",
    "    Ts = np.arange(5.0,1.0,-0.1)\n",
    "    d_data = {}\n",
    "    for T,lattices in pool.imap_unordered(get_lattices, Ts):\n",
    "        print T\n",
    "        d_data[T] = lattices\n",
    "\n",
    "    with open(fname,\"w\") as fhout:\n",
    "        pickle.dump(d_data,fhout)\n",
    "    print \">>> Dumped to {}\".format(fname)\n",
    "else:\n",
    "    d_data = pickle.load(open(fname,\"r\"))\n",
    "    print \">>> Loaded from {}\".format(fname)"
   ]
  },
  {
   "cell_type": "code",
   "execution_count": 19,
   "metadata": {},
   "outputs": [],
   "source": [
    "# make vector of input matrices, vector of temperatures\n",
    "X_data = []\n",
    "y_data = []\n",
    "T_data = []\n",
    "\n",
    "for T,configs in d_data.items():\n",
    "    for config in configs:\n",
    "        # flip spins to double dataset keeping E same\n",
    "        # this is also needed so ML algorithm doesn't learn\n",
    "        # to prefer one magnetization sign over another\n",
    "        # also make truth labels (0 is low T phase, 1 is high T phase)\n",
    "        # and also mirror lattice horizontally/vertically to get free data\n",
    "        target = 0\n",
    "        if T > Tc:\n",
    "            target = 1\n",
    "            \n",
    "        X_data.append(config)\n",
    "        X_data.append(np.flip(config,0))\n",
    "        X_data.append(np.flip(config,1))\n",
    "        X_data.append(-config)\n",
    "        X_data.append(-np.flip(config,0))\n",
    "        X_data.append(-np.flip(config,1))\n",
    "        \n",
    "        for _ in range(6):\n",
    "            T_data.append(T)\n",
    "            y_data.append(target)\n",
    "\n",
    "\n",
    "X_data = np.array(X_data)\n",
    "y_data = np.array(y_data)\n",
    "T_data = np.array(T_data)\n",
    "\n",
    "# convert spin matrices from -1,1 to 0,1\n",
    "X_data = 0.5*(X_data+1)\n",
    "\n",
    "# Thus, our training and test sets will consist of \n",
    "# the lattice images and the targets will be 0 or 1.\n",
    "# If the lattice is at low (T<Tc) or high (T>Tc) temperature\n",
    "# It's up to the CNN to learn the concept of temperature/magnetization/etc."
   ]
  },
  {
   "cell_type": "code",
   "execution_count": 20,
   "metadata": {},
   "outputs": [
    {
     "name": "stdout",
     "output_type": "stream",
     "text": [
      "Training samples:  4200\n",
      "Testing samples:  1800\n"
     ]
    }
   ],
   "source": [
    "# split the data\n",
    "X_train, X_test, y_train, y_test, T_train, T_test = \\\n",
    "  train_test_split(X_data, y_data, T_data, test_size=0.3, random_state=42)\n",
    "print \"Training samples: \", X_train.shape[0]\n",
    "print \"Testing samples: \", X_test.shape[0]"
   ]
  },
  {
   "cell_type": "code",
   "execution_count": 21,
   "metadata": {},
   "outputs": [],
   "source": [
    "# prepare for CNN input\n",
    "img_rows, img_cols = 10, 10\n",
    "X_train = X_train.reshape(X_train.shape[0], img_rows, img_cols, 1)\n",
    "X_test = X_test.reshape(X_test.shape[0], img_rows, img_cols, 1)\n",
    "input_shape = (img_rows, img_cols, 1)\n",
    "X_train = X_train.astype('float32')\n",
    "X_test = X_test.astype('float32')\n",
    "y_train = keras.utils.to_categorical(y_train, 2)\n",
    "y_test = keras.utils.to_categorical(y_test, 2)"
   ]
  },
  {
   "cell_type": "code",
   "execution_count": 22,
   "metadata": {},
   "outputs": [
    {
     "name": "stdout",
     "output_type": "stream",
     "text": [
      "_________________________________________________________________\n",
      "Layer (type)                 Output Shape              Param #   \n",
      "=================================================================\n",
      "conv2d_3 (Conv2D)            (None, 8, 8, 32)          320       \n",
      "_________________________________________________________________\n",
      "conv2d_4 (Conv2D)            (None, 6, 6, 64)          18496     \n",
      "_________________________________________________________________\n",
      "max_pooling2d_2 (MaxPooling2 (None, 3, 3, 64)          0         \n",
      "_________________________________________________________________\n",
      "dropout_4 (Dropout)          (None, 3, 3, 64)          0         \n",
      "_________________________________________________________________\n",
      "flatten_2 (Flatten)          (None, 576)               0         \n",
      "_________________________________________________________________\n",
      "dense_4 (Dense)              (None, 128)               73856     \n",
      "_________________________________________________________________\n",
      "dropout_5 (Dropout)          (None, 128)               0         \n",
      "_________________________________________________________________\n",
      "dense_5 (Dense)              (None, 16)                2064      \n",
      "_________________________________________________________________\n",
      "dropout_6 (Dropout)          (None, 16)                0         \n",
      "_________________________________________________________________\n",
      "dense_6 (Dense)              (None, 2)                 34        \n",
      "=================================================================\n",
      "Total params: 94,770\n",
      "Trainable params: 94,770\n",
      "Non-trainable params: 0\n",
      "_________________________________________________________________\n",
      "Train on 4200 samples, validate on 1800 samples\n",
      "Epoch 1/6\n",
      "4200/4200 [==============================] - 4s 970us/step - loss: 0.3858 - acc: 0.8060 - val_loss: 0.2681 - val_acc: 0.8917\n",
      "Epoch 2/6\n",
      "4200/4200 [==============================] - 1s 336us/step - loss: 0.2046 - acc: 0.9321 - val_loss: 0.1540 - val_acc: 0.9467\n",
      "Epoch 3/6\n",
      "4200/4200 [==============================] - 1s 264us/step - loss: 0.1527 - acc: 0.9476 - val_loss: 0.1375 - val_acc: 0.9489\n",
      "Epoch 4/6\n",
      "4200/4200 [==============================] - 1s 270us/step - loss: 0.1402 - acc: 0.9495 - val_loss: 0.1501 - val_acc: 0.9428\n",
      "Epoch 5/6\n",
      "4200/4200 [==============================] - 1s 275us/step - loss: 0.1361 - acc: 0.9507 - val_loss: 0.1361 - val_acc: 0.9467\n",
      "Epoch 6/6\n",
      "4200/4200 [==============================] - 1s 270us/step - loss: 0.1179 - acc: 0.9552 - val_loss: 0.1337 - val_acc: 0.9500\n",
      "Test loss: 0.1337257100434767\n",
      "Test accuracy: 0.95\n"
     ]
    }
   ],
   "source": [
    "model = Sequential()\n",
    "model.add(Conv2D(32, kernel_size=(3, 3),\n",
    "                 activation='relu',\n",
    "                 input_shape=input_shape))\n",
    "model.add(Conv2D(64, (3, 3), activation='relu'))\n",
    "model.add(MaxPooling2D(pool_size=(2, 2)))\n",
    "model.add(Dropout(0.2))\n",
    "model.add(Flatten())\n",
    "model.add(Dense(128, activation='relu'))\n",
    "model.add(Dropout(0.3))\n",
    "model.add(Dense(16, activation='relu'))\n",
    "model.add(Dropout(0.1))\n",
    "model.add(Dense(2, activation='softmax'))\n",
    "\n",
    "model.summary()\n",
    "\n",
    "model.compile(loss='binary_crossentropy',\n",
    "              optimizer=\"adam\",\n",
    "              metrics=['accuracy'])\n",
    "\n",
    "history = model.fit(X_train, y_train,\n",
    "                    batch_size=100,\n",
    "                    epochs=6,\n",
    "                    verbose=1,\n",
    "                    shuffle=True,\n",
    "                    validation_data=(X_test, y_test))\n",
    "score = model.evaluate(X_test, y_test, verbose=0)\n",
    "print 'Test loss:', score[0]\n",
    "print 'Test accuracy:', score[1]"
   ]
  },
  {
   "cell_type": "code",
   "execution_count": 23,
   "metadata": {},
   "outputs": [],
   "source": [
    "# predict and unbinarize\n",
    "pred = model.predict(X_test)\n",
    "pred = pred[:,1]\n",
    "y = y_test[:,1]\n",
    "\n",
    "high = y > 0.5\n",
    "low = y < 0.5"
   ]
  },
  {
   "cell_type": "code",
   "execution_count": 24,
   "metadata": {},
   "outputs": [],
   "source": [
    "def get_t_and_avgpred(Ts,preds):\n",
    "    # for vector of temperatures and predictions, return\n",
    "    # vector of unique temperatures and their mean predictions\n",
    "    # along with standard error on mean predictions\n",
    "    new_Ts = []\n",
    "    new_preds = []\n",
    "    new_prederrs = []\n",
    "    for T in np.unique(Ts):\n",
    "        new_Ts.append(T)\n",
    "        new_preds.append(preds[Ts == T].mean())\n",
    "        new_prederrs.append(preds[Ts == T].std()/np.sqrt(len(preds[Ts == T])))\n",
    "    return np.array(new_Ts), np.array(new_preds), np.array(new_prederrs)\n",
    "\n",
    "def sigmoid(x, x0, k):\n",
    "    return 1 / (1 + 1*np.exp(-k*(x-x0)))"
   ]
  },
  {
   "cell_type": "code",
   "execution_count": 25,
   "metadata": {},
   "outputs": [
    {
     "data": {
      "image/png": "[encoded data removed]",
      "text/plain": [
       "<Figure size 432x288 with 1 Axes>"
      ]
     },
     "metadata": {
      "needs_background": "light"
     },
     "output_type": "display_data"
    }
   ],
   "source": [
    "# Final result -- \n",
    "# Plot the average predictions for lattices in the test set\n",
    "# at different temperatures. The point at which the prediction\n",
    "# passes through 0.5 is the critical temperature. I.e., at a phase\n",
    "# transition, the CNN is confused about what phase the system is in.\n",
    "# So we fit a sigmoid to the points and use this to estimate the crossing point (`Tc_fit`)\n",
    "Ts_low, preds_low, prederrs_low = get_t_and_avgpred(T_test[low],pred[low])\n",
    "Ts_high, preds_high, prederrs_high = get_t_and_avgpred(T_test[high],pred[high])\n",
    "\n",
    "# fit a sigmoid to the average predictions\n",
    "popt, pcov = curve_fit(sigmoid, np.r_[Ts_low,Ts_high], np.r_[preds_low,preds_high])\n",
    "xfit = np.linspace(1.0,5.0,200)\n",
    "yfit = sigmoid(xfit, *popt)\n",
    "# and figure out for what T the fit line is closest to 0.5\n",
    "Tc_fit = xfit[np.argmin(np.abs(yfit-0.5))]\n",
    "\n",
    "fig, ax = plt.subplots(nrows=1, ncols=1)\n",
    "ax.errorbar(Ts_low,preds_low, yerr=prederrs_low, fmt=\"bo\", label=\"$T<T_c$\")\n",
    "ax.errorbar(Ts_high,preds_high, yerr=prederrs_high, fmt=\"ro\", label=\"$T>T_c$\")\n",
    "ax.plot(xfit,yfit, \"k-\", label=\"sigmoid fit\")\n",
    "ax.plot([Tc,Tc],[0.,1.],'-', color=\"orange\",linewidth=2.0, label=\"$T_c$ ({:.3f})\".format(Tc))\n",
    "ax.plot([Tc_fit,Tc_fit],[0.,1.],'--', color=\"dodgerblue\",linewidth=2.0, label=\"$T_c$ fit ({:.3f})\".format(Tc_fit))\n",
    "ax.set_xlabel(\"T\")\n",
    "ax.set_ylabel(\"prediction\")\n",
    "ax.set_title(\"L = 10\")\n",
    "ax.legend(loc=\"center right\", numpoints=1)\n",
    "ax.grid(True)"
   ]
  },
  {
   "cell_type": "code",
   "execution_count": null,
   "metadata": {},
   "outputs": [],
   "source": []
  }
 ],
 "metadata": {
  "kernelspec": {
   "display_name": "Python 2",
   "language": "python",
   "name": "python2"
  },
  "language_info": {
   "codemirror_mode": {
    "name": "ipython",
    "version": 2
   },
   "file_extension": ".py",
   "mimetype": "text/x-python",
   "name": "python",
   "nbconvert_exporter": "python",
   "pygments_lexer": "ipython2",
   "version": "2.7.10"
  }
 },
 "nbformat": 4,
 "nbformat_minor": 2
}
