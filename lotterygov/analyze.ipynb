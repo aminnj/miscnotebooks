{
 "cells": [
  {
   "cell_type": "code",
   "execution_count": 44,
   "metadata": {},
   "outputs": [],
   "source": [
    "%matplotlib inline\n",
    "\n",
    "import os\n",
    "import sys\n",
    "import numpy as np\n",
    "import pandas as pd\n",
    "import json\n",
    "from pprint import pprint\n",
    "\n",
    "from scipy import stats\n",
    "\n",
    "import gzip\n",
    "\n",
    "# pip install ipywidgets --user\n",
    "# jupyter nbextension install --py  widgetsnbextension --user\n",
    "# jupyter nbextension enable widgetsnbextension --user --py\n",
    "from ipywidgets import interact, interactive, fixed, interact_manual\n",
    "import ipywidgets as widgets\n",
    "\n",
    "import matplotlib.pyplot as plt"
   ]
  },
  {
   "cell_type": "code",
   "execution_count": 45,
   "metadata": {},
   "outputs": [
    {
     "name": "stdout",
     "output_type": "stream",
     "text": [
      "  % Total    % Received % Xferd  Average Speed   Time    Time     Time  Current\n",
      "                                 Dload  Upload   Total   Spent    Left  Speed\n",
      "100  165k    0  165k    0     0   125k      0 --:--:--  0:00:01 --:--:--  125k\n"
     ]
    }
   ],
   "source": [
    "! curl \"https://data.ny.gov/api/views/d6yy-54nr/rows.json?accessType=DOWNLOAD\" | gzip -1 -c > data.json.gz"
   ]
  },
  {
   "cell_type": "code",
   "execution_count": 46,
   "metadata": {},
   "outputs": [
    {
     "data": {
      "text/html": [
       "<div>\n",
       "<style scoped>\n",
       "    .dataframe tbody tr th:only-of-type {\n",
       "        vertical-align: middle;\n",
       "    }\n",
       "\n",
       "    .dataframe tbody tr th {\n",
       "        vertical-align: top;\n",
       "    }\n",
       "\n",
       "    .dataframe thead th {\n",
       "        text-align: right;\n",
       "    }\n",
       "</style>\n",
       "<table border=\"1\" class=\"dataframe\">\n",
       "  <thead>\n",
       "    <tr style=\"text-align: right;\">\n",
       "      <th></th>\n",
       "      <th>date</th>\n",
       "      <th>numbers</th>\n",
       "      <th>multiplier</th>\n",
       "    </tr>\n",
       "  </thead>\n",
       "  <tbody>\n",
       "    <tr>\n",
       "      <th>0</th>\n",
       "      <td>2019-05-29T00:00:00</td>\n",
       "      <td>03 32 34 42 61 07</td>\n",
       "      <td>2</td>\n",
       "    </tr>\n",
       "    <tr>\n",
       "      <th>1</th>\n",
       "      <td>2019-05-25T00:00:00</td>\n",
       "      <td>01 02 39 43 66 02</td>\n",
       "      <td>3</td>\n",
       "    </tr>\n",
       "    <tr>\n",
       "      <th>2</th>\n",
       "      <td>2019-05-22T00:00:00</td>\n",
       "      <td>07 10 20 44 57 03</td>\n",
       "      <td>2</td>\n",
       "    </tr>\n",
       "    <tr>\n",
       "      <th>3</th>\n",
       "      <td>2019-05-18T00:00:00</td>\n",
       "      <td>02 10 25 66 67 26</td>\n",
       "      <td>4</td>\n",
       "    </tr>\n",
       "    <tr>\n",
       "      <th>4</th>\n",
       "      <td>2019-05-15T00:00:00</td>\n",
       "      <td>07 17 33 61 68 04</td>\n",
       "      <td>2</td>\n",
       "    </tr>\n",
       "  </tbody>\n",
       "</table>\n",
       "</div>"
      ],
      "text/plain": [
       "                  date            numbers multiplier\n",
       "0  2019-05-29T00:00:00  03 32 34 42 61 07          2\n",
       "1  2019-05-25T00:00:00  01 02 39 43 66 02          3\n",
       "2  2019-05-22T00:00:00  07 10 20 44 57 03          2\n",
       "3  2019-05-18T00:00:00  02 10 25 66 67 26          4\n",
       "4  2019-05-15T00:00:00  07 17 33 61 68 04          2"
      ]
     },
     "execution_count": 46,
     "metadata": {},
     "output_type": "execute_result"
    }
   ],
   "source": [
    "js = json.load(gzip.open(\"data.json.gz\"))\n",
    "columns = [x for x in js[\"meta\"][\"view\"][\"columns\"]]\n",
    "colnames = [c[(\"dataTypeName\" if c[\"id\"]>=0 else \"name\")] for c in columns]\n",
    "\n",
    "dfc = pd.DataFrame(js[\"data\"],columns=colnames)\n",
    "dfc = dfc.drop([\"sid\",\"id\",\"position\",\"created_at\",\"created_meta\",\"updated_at\",\"updated_meta\",\"meta\"],axis=1)\n",
    "dfc = dfc.rename(columns={\"number\":\"multiplier\",\"text\":\"numbers\",\"calendar_date\":\"date\"})\n",
    "dfc.head()"
   ]
  },
  {
   "cell_type": "code",
   "execution_count": 47,
   "metadata": {},
   "outputs": [],
   "source": [
    "dfc.date = pd.to_datetime(dfc.date)\n",
    "dfc.multiplier = pd.to_numeric(dfc.multiplier)\n",
    "dfc.numbers = dfc.numbers.str.split()"
   ]
  },
  {
   "cell_type": "code",
   "execution_count": 48,
   "metadata": {},
   "outputs": [
    {
     "data": {
      "text/plain": [
       "0     3\n",
       "1    32\n",
       "2    34\n",
       "3    42\n",
       "4    61\n",
       "dtype: int64"
      ]
     },
     "execution_count": 48,
     "metadata": {},
     "output_type": "execute_result"
    }
   ],
   "source": [
    "numbers = map(int,dfc.numbers.values.sum())\n",
    "numbers = pd.Series(numbers)\n",
    "numbers.head()"
   ]
  },
  {
   "cell_type": "code",
   "execution_count": 49,
   "metadata": {},
   "outputs": [
    {
     "data": {
      "text/plain": [
       "<matplotlib.axes._subplots.AxesSubplot at 0x127be2b50>"
      ]
     },
     "execution_count": 49,
     "metadata": {},
     "output_type": "execute_result"
    },
    {
     "data": {
      "image/png": "[encoded data removed]",
      "text/plain": [
       "<Figure size 432x288 with 1 Axes>"
      ]
     },
     "metadata": {
      "needs_background": "light"
     },
     "output_type": "display_data"
    }
   ],
   "source": [
    "numbers.plot.hist(bins=np.linspace(0,70,71))"
   ]
  },
  {
   "cell_type": "code",
   "execution_count": 50,
   "metadata": {},
   "outputs": [
    {
     "data": {
      "text/plain": [
       "<matplotlib.axes._subplots.AxesSubplot at 0x127351210>"
      ]
     },
     "execution_count": 50,
     "metadata": {},
     "output_type": "execute_result"
    },
    {
     "data": {
      "image/png": "[encoded data removed]",
      "text/plain": [
       "<Figure size 432x288 with 1 Axes>"
      ]
     },
     "metadata": {
      "needs_background": "light"
     },
     "output_type": "display_data"
    }
   ],
   "source": [
    "sums = dfc.numbers.map(lambda x:sum(map(int,x)))\n",
    "sums.plot.hist(bins=np.linspace(0,350,30))"
   ]
  },
  {
   "cell_type": "code",
   "execution_count": 51,
   "metadata": {},
   "outputs": [
    {
     "data": {
      "text/html": [
       "<div>\n",
       "<style scoped>\n",
       "    .dataframe tbody tr th:only-of-type {\n",
       "        vertical-align: middle;\n",
       "    }\n",
       "\n",
       "    .dataframe tbody tr th {\n",
       "        vertical-align: top;\n",
       "    }\n",
       "\n",
       "    .dataframe thead th {\n",
       "        text-align: right;\n",
       "    }\n",
       "</style>\n",
       "<table border=\"1\" class=\"dataframe\">\n",
       "  <thead>\n",
       "    <tr style=\"text-align: right;\">\n",
       "      <th></th>\n",
       "      <th>date</th>\n",
       "      <th>level_1</th>\n",
       "      <th>num_mean</th>\n",
       "      <th>num_std</th>\n",
       "      <th>num_size</th>\n",
       "      <th>mult_mean</th>\n",
       "      <th>mult_sum</th>\n",
       "      <th>mult_size</th>\n",
       "    </tr>\n",
       "  </thead>\n",
       "  <tbody>\n",
       "    <tr>\n",
       "      <th>0</th>\n",
       "      <td>2010-02-28</td>\n",
       "      <td>0</td>\n",
       "      <td>29.937500</td>\n",
       "      <td>17.066544</td>\n",
       "      <td>48.0</td>\n",
       "      <td>2.875000</td>\n",
       "      <td>23.0</td>\n",
       "      <td>8.0</td>\n",
       "    </tr>\n",
       "    <tr>\n",
       "      <th>1</th>\n",
       "      <td>2010-03-31</td>\n",
       "      <td>0</td>\n",
       "      <td>27.240741</td>\n",
       "      <td>16.384201</td>\n",
       "      <td>54.0</td>\n",
       "      <td>3.222222</td>\n",
       "      <td>29.0</td>\n",
       "      <td>9.0</td>\n",
       "    </tr>\n",
       "    <tr>\n",
       "      <th>2</th>\n",
       "      <td>2010-04-30</td>\n",
       "      <td>0</td>\n",
       "      <td>30.833333</td>\n",
       "      <td>17.561005</td>\n",
       "      <td>48.0</td>\n",
       "      <td>3.000000</td>\n",
       "      <td>24.0</td>\n",
       "      <td>8.0</td>\n",
       "    </tr>\n",
       "    <tr>\n",
       "      <th>3</th>\n",
       "      <td>2010-05-31</td>\n",
       "      <td>0</td>\n",
       "      <td>29.518519</td>\n",
       "      <td>17.267761</td>\n",
       "      <td>54.0</td>\n",
       "      <td>3.333333</td>\n",
       "      <td>30.0</td>\n",
       "      <td>9.0</td>\n",
       "    </tr>\n",
       "    <tr>\n",
       "      <th>4</th>\n",
       "      <td>2010-06-30</td>\n",
       "      <td>0</td>\n",
       "      <td>29.129630</td>\n",
       "      <td>15.396063</td>\n",
       "      <td>54.0</td>\n",
       "      <td>4.666667</td>\n",
       "      <td>42.0</td>\n",
       "      <td>9.0</td>\n",
       "    </tr>\n",
       "  </tbody>\n",
       "</table>\n",
       "</div>"
      ],
      "text/plain": [
       "        date  level_1   num_mean    num_std  num_size  mult_mean  mult_sum  \\\n",
       "0 2010-02-28        0  29.937500  17.066544      48.0   2.875000      23.0   \n",
       "1 2010-03-31        0  27.240741  16.384201      54.0   3.222222      29.0   \n",
       "2 2010-04-30        0  30.833333  17.561005      48.0   3.000000      24.0   \n",
       "3 2010-05-31        0  29.518519  17.267761      54.0   3.333333      30.0   \n",
       "4 2010-06-30        0  29.129630  15.396063      54.0   4.666667      42.0   \n",
       "\n",
       "   mult_size  \n",
       "0        8.0  \n",
       "1        9.0  \n",
       "2        8.0  \n",
       "3        9.0  \n",
       "4        9.0  "
      ]
     },
     "execution_count": 51,
     "metadata": {},
     "output_type": "execute_result"
    }
   ],
   "source": [
    "def f(x):\n",
    "    nums = np.array(map(float,x.numbers.sum()))\n",
    "    return pd.DataFrame(np.c_[\n",
    "        nums.mean(), nums.std(), nums.size,x.multiplier.mean(),x.multiplier.sum(),x.multiplier.shape,\n",
    "    ],columns=[\"num_mean\",\"num_std\",\"num_size\",\"mult_mean\",\"mult_sum\",\"mult_size\"])\n",
    "dfg = dfc.set_index(\"date\").resample(\"M\").apply(f).reset_index()\n",
    "dfg.head()"
   ]
  },
  {
   "cell_type": "code",
   "execution_count": 52,
   "metadata": {},
   "outputs": [
    {
     "data": {
      "text/plain": [
       "Text(0,0.5,'mean ball number')"
      ]
     },
     "execution_count": 52,
     "metadata": {},
     "output_type": "execute_result"
    },
    {
     "data": {
      "image/png": "[encoded data removed]",
      "text/plain": [
       "<Figure size 432x288 with 1 Axes>"
      ]
     },
     "metadata": {
      "needs_background": "light"
     },
     "output_type": "display_data"
    }
   ],
   "source": [
    "fig,ax = plt.subplots()\n",
    "# ax.plot_date(dates,dfg[\"mean\"])\n",
    "# ax.errorbar(dates, dfg[\"mult_mean\"])\n",
    "ax.errorbar(dfg.date, dfg[\"num_mean\"], yerr=dfg[\"num_std\"]/dfg[\"num_size\"]**0.5, fmt=\"o\")\n",
    "ax.set_ylabel(\"mean ball number\")"
   ]
  },
  {
   "cell_type": "code",
   "execution_count": 53,
   "metadata": {},
   "outputs": [
    {
     "data": {
      "text/html": [
       "<div>\n",
       "<style scoped>\n",
       "    .dataframe tbody tr th:only-of-type {\n",
       "        vertical-align: middle;\n",
       "    }\n",
       "\n",
       "    .dataframe tbody tr th {\n",
       "        vertical-align: top;\n",
       "    }\n",
       "\n",
       "    .dataframe thead th {\n",
       "        text-align: right;\n",
       "    }\n",
       "</style>\n",
       "<table border=\"1\" class=\"dataframe\">\n",
       "  <thead>\n",
       "    <tr style=\"text-align: right;\">\n",
       "      <th></th>\n",
       "      <th>date</th>\n",
       "      <th>level_1</th>\n",
       "      <th>num_mean</th>\n",
       "      <th>num_std</th>\n",
       "      <th>num_size</th>\n",
       "      <th>mult_mean</th>\n",
       "      <th>mult_sum</th>\n",
       "      <th>mult_size</th>\n",
       "      <th>dateord</th>\n",
       "      <th>fit</th>\n",
       "    </tr>\n",
       "  </thead>\n",
       "  <tbody>\n",
       "    <tr>\n",
       "      <th>0</th>\n",
       "      <td>2010-02-28</td>\n",
       "      <td>0</td>\n",
       "      <td>29.937500</td>\n",
       "      <td>17.066544</td>\n",
       "      <td>48.0</td>\n",
       "      <td>2.875000</td>\n",
       "      <td>23.0</td>\n",
       "      <td>8.0</td>\n",
       "      <td>733831</td>\n",
       "      <td>28.798902</td>\n",
       "    </tr>\n",
       "    <tr>\n",
       "      <th>1</th>\n",
       "      <td>2010-03-31</td>\n",
       "      <td>0</td>\n",
       "      <td>27.240741</td>\n",
       "      <td>16.384201</td>\n",
       "      <td>54.0</td>\n",
       "      <td>3.222222</td>\n",
       "      <td>29.0</td>\n",
       "      <td>9.0</td>\n",
       "      <td>733862</td>\n",
       "      <td>28.777903</td>\n",
       "    </tr>\n",
       "    <tr>\n",
       "      <th>2</th>\n",
       "      <td>2010-04-30</td>\n",
       "      <td>0</td>\n",
       "      <td>30.833333</td>\n",
       "      <td>17.561005</td>\n",
       "      <td>48.0</td>\n",
       "      <td>3.000000</td>\n",
       "      <td>24.0</td>\n",
       "      <td>8.0</td>\n",
       "      <td>733892</td>\n",
       "      <td>28.757581</td>\n",
       "    </tr>\n",
       "    <tr>\n",
       "      <th>3</th>\n",
       "      <td>2010-05-31</td>\n",
       "      <td>0</td>\n",
       "      <td>29.518519</td>\n",
       "      <td>17.267761</td>\n",
       "      <td>54.0</td>\n",
       "      <td>3.333333</td>\n",
       "      <td>30.0</td>\n",
       "      <td>9.0</td>\n",
       "      <td>733923</td>\n",
       "      <td>28.736582</td>\n",
       "    </tr>\n",
       "    <tr>\n",
       "      <th>4</th>\n",
       "      <td>2010-06-30</td>\n",
       "      <td>0</td>\n",
       "      <td>29.129630</td>\n",
       "      <td>15.396063</td>\n",
       "      <td>54.0</td>\n",
       "      <td>4.666667</td>\n",
       "      <td>42.0</td>\n",
       "      <td>9.0</td>\n",
       "      <td>733953</td>\n",
       "      <td>28.716261</td>\n",
       "    </tr>\n",
       "  </tbody>\n",
       "</table>\n",
       "</div>"
      ],
      "text/plain": [
       "        date  level_1   num_mean    num_std  num_size  mult_mean  mult_sum  \\\n",
       "0 2010-02-28        0  29.937500  17.066544      48.0   2.875000      23.0   \n",
       "1 2010-03-31        0  27.240741  16.384201      54.0   3.222222      29.0   \n",
       "2 2010-04-30        0  30.833333  17.561005      48.0   3.000000      24.0   \n",
       "3 2010-05-31        0  29.518519  17.267761      54.0   3.333333      30.0   \n",
       "4 2010-06-30        0  29.129630  15.396063      54.0   4.666667      42.0   \n",
       "\n",
       "   mult_size  dateord        fit  \n",
       "0        8.0   733831  28.798902  \n",
       "1        9.0   733862  28.777903  \n",
       "2        8.0   733892  28.757581  \n",
       "3        9.0   733923  28.736582  \n",
       "4        9.0   733953  28.716261  "
      ]
     },
     "execution_count": 53,
     "metadata": {},
     "output_type": "execute_result"
    }
   ],
   "source": [
    "df = dfg[dfg.date < pd.to_datetime(\"2015-06-01\")].copy()\n",
    "df[\"dateord\"] = df.date.apply(lambda x:x.toordinal())\n",
    "m, b, r, pval, err = stats.linregress(df[\"dateord\"],df[\"num_mean\"])\n",
    "df[\"fit\"] = df[\"dateord\"]*m+b\n",
    "df.head()"
   ]
  },
  {
   "cell_type": "code",
   "execution_count": 54,
   "metadata": {},
   "outputs": [
    {
     "data": {
      "text/plain": [
       "Text(0,0.5,'mean ball number')"
      ]
     },
     "execution_count": 54,
     "metadata": {},
     "output_type": "execute_result"
    },
    {
     "data": {
      "image/png": "[encoded data removed]",
      "text/plain": [
       "<Figure size 432x288 with 1 Axes>"
      ]
     },
     "metadata": {
      "needs_background": "light"
     },
     "output_type": "display_data"
    }
   ],
   "source": [
    "fig,ax = plt.subplots()\n",
    "ax.errorbar(dfg.date, dfg[\"num_mean\"], yerr=dfg[\"num_std\"]/dfg[\"num_size\"]**0.5, fmt=\"o\")\n",
    "ax.plot_date(df[\"date\"],df[\"fit\"],fmt=\"-\",lw=2,color=\"r\")\n",
    "ax.set_ylabel(\"mean ball number\")"
   ]
  },
  {
   "cell_type": "code",
   "execution_count": 55,
   "metadata": {},
   "outputs": [
    {
     "data": {
      "application/vnd.jupyter.widget-view+json": {
       "model_id": "3d0eed2fd1ad46409b6b5da9b40aa2db",
       "version_major": 2,
       "version_minor": 0
      },
      "text/plain": [
       "aW50ZXJhY3RpdmUoY2hpbGRyZW49KEludFNsaWRlcih2YWx1ZT03NSwgZGVzY3JpcHRpb249dSdkYXlzJywgbWF4PTIyNSwgbWluPS03NSksIE91dHB1dCgpKSwgX2RvbV9jbGFzc2VzPSh1J3figKY=\n"
      ]
     },
     "metadata": {},
     "output_type": "display_data"
    }
   ],
   "source": [
    "def animation(days):\n",
    "    fig,ax = plt.subplots()\n",
    "    days = max(min(days,500),10)\n",
    "    def f(x):\n",
    "        nums = np.array(map(float,x.numbers.sum()))\n",
    "        return pd.DataFrame(np.c_[\n",
    "            nums.mean(), nums.std(), nums.size,x.multiplier.mean(),x.multiplier.sum(),x.multiplier.shape,\n",
    "        ],columns=[\"num_mean\",\"num_std\",\"num_size\",\"mult_mean\",\"mult_sum\",\"mult_size\"])\n",
    "    dfg = dfc.set_index(\"date\").resample(\"{}d\".format(days)).apply(f).reset_index()\n",
    "    ax.errorbar(dfg.date, dfg[\"num_mean\"], yerr=dfg[\"num_std\"]/dfg[\"num_size\"]**0.5, fmt=\"o\",label=\"grouped by {} days\".format(days))\n",
    "    \n",
    "    df = dfg[dfg.date < pd.to_datetime(\"2015-06-01\")].copy()\n",
    "    df[\"dateord\"] = df.date.apply(lambda x:x.toordinal())\n",
    "    m, b, r, pval, err = stats.linregress(df[\"dateord\"],df[\"num_mean\"])\n",
    "    df[\"fit\"] = df[\"dateord\"]*m+b\n",
    "    \n",
    "    ax.plot_date(df[\"date\"],df[\"fit\"],fmt=\"-\",lw=2,color=\"r\")\n",
    "\n",
    "    ax.set_ylabel(\"mean ball number\")\n",
    "    ax.legend()\n",
    "    \n",
    "interact(animation, days=75);"
   ]
  },
  {
   "cell_type": "code",
   "execution_count": null,
   "metadata": {},
   "outputs": [],
   "source": []
  }
 ],
 "metadata": {
  "kernelspec": {
   "display_name": "Python 3",
   "language": "python",
   "name": "python3"
  },
  "language_info": {
   "codemirror_mode": {
    "name": "ipython",
    "version": 3
   },
   "file_extension": ".py",
   "mimetype": "text/x-python",
   "name": "python",
   "nbconvert_exporter": "python",
   "pygments_lexer": "ipython3",
   "version": "3.7.3"
  }
 },
 "nbformat": 4,
 "nbformat_minor": 2
}
