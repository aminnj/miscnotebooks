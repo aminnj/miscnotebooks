{
 "cells": [
  {
   "cell_type": "code",
   "execution_count": 1,
   "metadata": {},
   "outputs": [],
   "source": [
    "import numpy as np\n",
    "import numba"
   ]
  },
  {
   "cell_type": "code",
   "execution_count": 2,
   "metadata": {},
   "outputs": [],
   "source": [
    "# import os\n",
    "# os.environ[\"NUMBA_NUM_THREADS\"] = \"4\""
   ]
  },
  {
   "cell_type": "code",
   "execution_count": 3,
   "metadata": {},
   "outputs": [],
   "source": [
    "import math\n",
    "\n",
    "@numba.njit()\n",
    "def compute_bin_1d_uniform(x, bins, overflow=False):\n",
    "    n = bins.shape[0] - 1\n",
    "    b_min = bins[0]\n",
    "    b_max = bins[-1]\n",
    "    if overflow:\n",
    "        if x > b_max: return n-1\n",
    "        elif x < b_min: return 0\n",
    "    ibin = int(n * (x - b_min) / (b_max - b_min))\n",
    "    if x < b_min or x > b_max:\n",
    "        return -1\n",
    "    else:\n",
    "        return ibin"
   ]
  },
  {
   "cell_type": "code",
   "execution_count": 4,
   "metadata": {},
   "outputs": [],
   "source": [
    "@numba.njit()\n",
    "def numba_histogram(a, bins, weights=None,overflow=False):\n",
    "    db = np.ediff1d(bins)\n",
    "    is_uniform_binning = np.all(db-db[0]<1e-6)\n",
    "    hist = np.zeros((len(bins)-1,), dtype=np.float64)\n",
    "    a = a.flat\n",
    "    b_min = bins[0]\n",
    "    b_max = bins[-1]\n",
    "    n = bins.shape[0] - 1\n",
    "    if weights is None:\n",
    "        weights = np.ones(len(a),dtype=np.float64)\n",
    "    if is_uniform_binning:\n",
    "        for i in range(len(a)):\n",
    "            ibin = compute_bin_1d_uniform(a[i], bins, overflow=overflow)\n",
    "            if ibin >= 0:\n",
    "                hist[ibin] += weights[i]\n",
    "    else:\n",
    "        ibins = np.searchsorted(bins, a, side='left')\n",
    "        for i in range(len(a)):\n",
    "            # returns 0 if underflow, Nbins+1 if overflow\n",
    "            ibin = ibins[i]\n",
    "            if overflow:\n",
    "                if ibin == n+1: ibin = n\n",
    "                elif ibin == 0: ibin = 1\n",
    "            if ibin >= 1 and ibin <= n:\n",
    "                hist[ibin-1] += weights[i]\n",
    "        pass\n",
    "    return hist, bins\n",
    "\n",
    "# @numba.njit()\n",
    "@numba.njit(parallel=True)\n",
    "def numba_searchsorted(bins,values):\n",
    "    out = np.zeros(len(values),dtype=np.intp)\n",
    "#     for i in range(len(values)):\n",
    "    for i in numba.prange(len(values)):\n",
    "        lo = 0\n",
    "        hi = len(bins)\n",
    "        while lo < hi:\n",
    "            mid = (lo+hi)//2\n",
    "            if bins[mid] < values[i]: lo = mid+1\n",
    "            else: hi = mid\n",
    "        out[i] = lo\n",
    "    return out\n",
    "        "
   ]
  },
  {
   "cell_type": "code",
   "execution_count": 5,
   "metadata": {},
   "outputs": [],
   "source": [
    "@numba.njit()\n",
    "def numba_histogram2d(ax,ay, bins_x, bins_y, weights=None,overflow=False):\n",
    "    db_x = np.ediff1d(bins_x)\n",
    "    db_y = np.ediff1d(bins_y)\n",
    "    is_uniform_binning_x = np.all(db_x-db_x[0]<1e-6)\n",
    "    is_uniform_binning_y = np.all(db_y-db_y[0]<1e-6)\n",
    "    hist = np.zeros((len(bins_x)-1,len(bins_y)-1), dtype=np.float64)\n",
    "    ax = ax.flat\n",
    "    ay = ay.flat\n",
    "    b_min_x = bins_x[0]\n",
    "    b_max_x = bins_x[-1]\n",
    "    n_x = bins_x.shape[0] - 1\n",
    "    b_min_y = bins_y[0]\n",
    "    b_max_y = bins_y[-1]\n",
    "    n_y = bins_y.shape[0] - 1\n",
    "    if weights is None:\n",
    "        weights = np.ones(len(ax),dtype=np.float64)\n",
    "    if is_uniform_binning_x and is_uniform_binning_y:\n",
    "        for i in range(len(ax)):\n",
    "            ibin_x = compute_bin_1d_uniform(ax[i], bins_x, overflow=overflow)\n",
    "            ibin_y = compute_bin_1d_uniform(ay[i], bins_y, overflow=overflow)\n",
    "            if ibin_x >= 0 and ibin_y >= 0:\n",
    "                hist[ibin_x,ibin_y] += weights[i]\n",
    "    else:\n",
    "        ibins_x = np.searchsorted(bins_x, ax, side='left')\n",
    "        ibins_y = np.searchsorted(bins_y, ay, side='left')\n",
    "#         ibins_x = numba_searchsorted(bins_x, ax)\n",
    "#         ibins_y = numba_searchsorted(bins_y, ay)\n",
    "        for i in range(len(ax)):\n",
    "            # returns 0 if underflow, N if overflow\n",
    "            ibin_x = ibins_x[i]\n",
    "            ibin_y = ibins_y[i]\n",
    "            if overflow:\n",
    "                if ibin_x == n_x+1: ibin_x = n_x\n",
    "                elif ibin_x == 0: ibin_x = 1\n",
    "                if ibin_y == n_y+1: ibin_y = n_y\n",
    "                elif ibin_y == 0: ibin_y = 1\n",
    "            if ibin_x >= 1 and ibin_y >= 1 and ibin_x <= n_x and ibin_y <= n_y:\n",
    "                hist[ibin_x-1,ibin_y-1] += weights[i]\n",
    "    return hist, bins_x, bins_y"
   ]
  },
  {
   "cell_type": "code",
   "execution_count": 6,
   "metadata": {},
   "outputs": [
    {
     "name": "stdout",
     "output_type": "stream",
     "text": [
      "CPU times: user 366 ms, sys: 21.1 ms, total: 387 ms\n",
      "Wall time: 386 ms\n"
     ]
    }
   ],
   "source": [
    "%%time\n",
    "np.random.seed(42)\n",
    "N = int(1e7)\n",
    "v = np.random.normal(0,1,N)\n",
    "bins=np.linspace(-5,5,5000)"
   ]
  },
  {
   "cell_type": "code",
   "execution_count": 7,
   "metadata": {},
   "outputs": [
    {
     "name": "stdout",
     "output_type": "stream",
     "text": [
      "796 ms ± 1.28 ms per loop (mean ± std. dev. of 2 runs, 1 loop each)\n"
     ]
    }
   ],
   "source": [
    "%%timeit -r 2 -n 1\n",
    "counts,edges = np.histogram(v,bins=bins)\n",
    "counts,edges"
   ]
  },
  {
   "cell_type": "code",
   "execution_count": 8,
   "metadata": {},
   "outputs": [],
   "source": [
    "# compile\n",
    "counts,edges = numba_histogram(v,bins=bins,overflow=False)"
   ]
  },
  {
   "cell_type": "code",
   "execution_count": 9,
   "metadata": {},
   "outputs": [
    {
     "name": "stdout",
     "output_type": "stream",
     "text": [
      "40 ms ± 717 µs per loop (mean ± std. dev. of 7 runs, 10 loops each)\n"
     ]
    }
   ],
   "source": [
    "%%timeit\n",
    "counts,edges = numba_histogram(v,bins=bins,overflow=False)\n",
    "counts,edges"
   ]
  },
  {
   "cell_type": "code",
   "execution_count": 10,
   "metadata": {},
   "outputs": [
    {
     "name": "stdout",
     "output_type": "stream",
     "text": [
      "CPU times: user 362 ms, sys: 24 ms, total: 386 ms\n",
      "Wall time: 385 ms\n"
     ]
    }
   ],
   "source": [
    "%%time\n",
    "N = int(5e6)\n",
    "v1 = np.random.normal(0,1,N)\n",
    "v2 = np.random.normal(0,1,N)\n",
    "bins=np.linspace(-3,3,50)"
   ]
  },
  {
   "cell_type": "code",
   "execution_count": 11,
   "metadata": {},
   "outputs": [
    {
     "name": "stdout",
     "output_type": "stream",
     "text": [
      "498 ms ± 33.9 ms per loop (mean ± std. dev. of 3 runs, 1 loop each)\n"
     ]
    }
   ],
   "source": [
    "%%timeit -r 3 -n 1\n",
    "np.histogram2d(v1,v2,bins=[bins,bins]);"
   ]
  },
  {
   "cell_type": "code",
   "execution_count": 12,
   "metadata": {},
   "outputs": [
    {
     "name": "stdout",
     "output_type": "stream",
     "text": [
      "33.7 ms ± 1.66 ms per loop (mean ± std. dev. of 7 runs, 1 loop each)\n"
     ]
    }
   ],
   "source": [
    "%%timeit\n",
    "numba_histogram2d(v1,v2,bins,bins,overflow=False);"
   ]
  },
  {
   "cell_type": "code",
   "execution_count": 13,
   "metadata": {},
   "outputs": [
    {
     "name": "stdout",
     "output_type": "stream",
     "text": [
      "0.0\n"
     ]
    }
   ],
   "source": [
    "x = np.histogram2d(v1,v2,bins=[bins,bins]);\n",
    "y = numba_histogram2d(v1,v2,bins,bins,overflow=False);\n",
    "print(np.abs(x[0]-y[0]).sum())"
   ]
  },
  {
   "cell_type": "code",
   "execution_count": 14,
   "metadata": {},
   "outputs": [],
   "source": [
    "np.random.seed(42)\n",
    "N = int(1e7)\n",
    "v1 = np.random.normal(0,1,N)\n",
    "v2 = np.random.normal(0,1,N)\n",
    "bins2=np.linspace(-3,3,500)\n",
    "bins2[-2] = 4. # make nonuniform\n",
    "bins2[-1] = 40. # make nonuniform"
   ]
  },
  {
   "cell_type": "code",
   "execution_count": 15,
   "metadata": {},
   "outputs": [
    {
     "name": "stdout",
     "output_type": "stream",
     "text": [
      "726 ms ± 5.56 ms per loop (mean ± std. dev. of 2 runs, 1 loop each)\n"
     ]
    }
   ],
   "source": [
    "%%timeit -r 2 -n 1\n",
    "np.histogram(v,bins=bins2);"
   ]
  },
  {
   "cell_type": "code",
   "execution_count": 16,
   "metadata": {},
   "outputs": [
    {
     "name": "stdout",
     "output_type": "stream",
     "text": [
      "552 ms ± 14 ms per loop (mean ± std. dev. of 7 runs, 1 loop each)\n"
     ]
    }
   ],
   "source": [
    "%%timeit\n",
    "numba_histogram(v,bins=bins2,overflow=False);"
   ]
  },
  {
   "cell_type": "code",
   "execution_count": 17,
   "metadata": {},
   "outputs": [
    {
     "name": "stdout",
     "output_type": "stream",
     "text": [
      "1.56 s ± 30.9 ms per loop (mean ± std. dev. of 2 runs, 1 loop each)\n"
     ]
    }
   ],
   "source": [
    "%%timeit -r 2 -n 1\n",
    "np.histogram2d(v1,v2,bins=[bins2,bins2]);"
   ]
  },
  {
   "cell_type": "code",
   "execution_count": 18,
   "metadata": {},
   "outputs": [
    {
     "name": "stdout",
     "output_type": "stream",
     "text": [
      "1.12 s ± 1.55 ms per loop (mean ± std. dev. of 2 runs, 1 loop each)\n"
     ]
    }
   ],
   "source": [
    "%%timeit -r 2 -n 1\n",
    "numba_histogram2d(v1,v2,bins2,bins2,overflow=False);"
   ]
  },
  {
   "cell_type": "code",
   "execution_count": 19,
   "metadata": {
    "scrolled": true
   },
   "outputs": [
    {
     "data": {
      "text/plain": [
       "0.0"
      ]
     },
     "execution_count": 19,
     "metadata": {},
     "output_type": "execute_result"
    }
   ],
   "source": [
    "x = np.histogram2d(v1,v2,bins=[bins2,bins2]);\n",
    "y = numba_histogram2d(v1,v2,bins2,bins2,overflow=False)\n",
    "np.abs(x[0]-y[0]).sum()"
   ]
  },
  {
   "cell_type": "code",
   "execution_count": 20,
   "metadata": {},
   "outputs": [
    {
     "name": "stdout",
     "output_type": "stream",
     "text": [
      "754 ms ± 4.14 ms per loop (mean ± std. dev. of 3 runs, 1 loop each)\n"
     ]
    }
   ],
   "source": [
    "%%timeit -r 3 -n 1\n",
    "np.searchsorted(bins2, v1, side='left')"
   ]
  },
  {
   "cell_type": "code",
   "execution_count": 21,
   "metadata": {},
   "outputs": [
    {
     "name": "stdout",
     "output_type": "stream",
     "text": [
      "The slowest run took 4.01 times longer than the fastest. This could mean that an intermediate result is being cached.\n",
      "242 ms ± 167 ms per loop (mean ± std. dev. of 3 runs, 1 loop each)\n"
     ]
    }
   ],
   "source": [
    "%%timeit -r 3 -n 1\n",
    "numba_searchsorted(bins2,v1)"
   ]
  },
  {
   "cell_type": "code",
   "execution_count": 22,
   "metadata": {},
   "outputs": [
    {
     "data": {
      "text/plain": [
       "0"
      ]
     },
     "execution_count": 22,
     "metadata": {},
     "output_type": "execute_result"
    }
   ],
   "source": [
    "(np.searchsorted(bins2, v1, side='left')-numba_searchsorted(bins2,v1)).sum()"
   ]
  },
  {
   "cell_type": "code",
   "execution_count": null,
   "metadata": {},
   "outputs": [],
   "source": []
  }
 ],
 "metadata": {
  "kernelspec": {
   "display_name": "Python 3",
   "language": "python",
   "name": "python3"
  },
  "language_info": {
   "codemirror_mode": {
    "name": "ipython",
    "version": 3
   },
   "file_extension": ".py",
   "mimetype": "text/x-python",
   "name": "python",
   "nbconvert_exporter": "python",
   "pygments_lexer": "ipython3",
   "version": "3.7.3"
  }
 },
 "nbformat": 4,
 "nbformat_minor": 2
}
