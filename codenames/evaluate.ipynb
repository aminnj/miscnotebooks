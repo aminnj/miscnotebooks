{
 "cells": [
  {
   "cell_type": "markdown",
   "id": "86295fb6",
   "metadata": {},
   "source": [
    "### How well can GPT play Codenames"
   ]
  },
  {
   "cell_type": "code",
   "execution_count": 28,
   "id": "7fa79648",
   "metadata": {
    "ExecuteTime": {
     "end_time": "2024-02-24T01:46:16.219722Z",
     "start_time": "2024-02-24T01:46:16.216149Z"
    }
   },
   "outputs": [],
   "source": [
    "# %init\n",
    "import glob, sys, os, time\n",
    "import numpy as np\n",
    "import pandas as pd\n",
    "import matplotlib.pyplot as plt\n",
    "from tqdm.auto import tqdm\n",
    "from yahist import Hist1D, Hist2D\n",
    "import glob\n",
    "np.set_printoptions(linewidth=150)\n",
    "\n",
    "from myhelpers.dataframes import fix_types\n",
    "from myhelpers.personal import sqlite_magic\n",
    "\n",
    "import random"
   ]
  },
  {
   "cell_type": "code",
   "execution_count": 26,
   "id": "a633cf6f",
   "metadata": {
    "ExecuteTime": {
     "end_time": "2024-02-24T01:46:09.123517Z",
     "start_time": "2024-02-24T01:46:08.860764Z"
    }
   },
   "outputs": [],
   "source": [
    "all_words = pd.read_csv(\"https://raw.githubusercontent.com/sagelga/codenames/main/wordlist/en-EN/default/wordlist.txt\", header=None).squeeze().str.lower().tolist()"
   ]
  },
  {
   "cell_type": "code",
   "execution_count": null,
   "id": "296fad75",
   "metadata": {
    "ExecuteTime": {
     "end_time": "2024-02-24T01:44:31.429061Z",
     "start_time": "2024-02-24T01:44:31.419828Z"
    }
   },
   "outputs": [],
   "source": []
  },
  {
   "cell_type": "code",
   "execution_count": null,
   "id": "67e409c7",
   "metadata": {},
   "outputs": [],
   "source": [
    "import os\n",
    "from openai import OpenAI\n",
    "\n",
    "client = OpenAI()"
   ]
  },
  {
   "cell_type": "code",
   "execution_count": null,
   "id": "93cb6110",
   "metadata": {
    "ExecuteTime": {
     "end_time": "2024-02-24T02:13:05.535613Z",
     "start_time": "2024-02-24T02:13:05.516552Z"
    }
   },
   "outputs": [],
   "source": []
  },
  {
   "cell_type": "code",
   "execution_count": null,
   "id": "0ed89e0e",
   "metadata": {
    "ExecuteTime": {
     "end_time": "2024-02-24T02:13:53.120960Z",
     "start_time": "2024-02-24T02:13:53.118347Z"
    }
   },
   "outputs": [],
   "source": []
  },
  {
   "cell_type": "code",
   "execution_count": null,
   "id": "3142d907",
   "metadata": {
    "ExecuteTime": {
     "end_time": "2024-02-24T02:14:07.364782Z",
     "start_time": "2024-02-24T02:14:07.354353Z"
    }
   },
   "outputs": [],
   "source": []
  },
  {
   "cell_type": "code",
   "execution_count": 119,
   "id": "fbc0a271",
   "metadata": {
    "ExecuteTime": {
     "end_time": "2024-02-24T03:02:19.537335Z",
     "start_time": "2024-02-24T03:02:19.533437Z"
    }
   },
   "outputs": [],
   "source": [
    "import json\n",
    "import ast\n",
    "\n",
    "def get_spymaster_clue_number(words_with_teams, model=\"gpt-4\"):\n",
    "    words_with_teams_json = json.dumps(words_with_teams)\n",
    "    content = f\"\"\"\n",
    "    You are playing the codenames game where you are the spymaster on the blue team who knows the secret words and need to give a clue to point\n",
    "    your teammates at the relevant words and a number for how many words the clue identifies.\n",
    "    Avoid the enemies' words and avoid clues that could guide your teammates to the assassin word which causes an immediate loss.\n",
    "\n",
    "    The words and classifications are\n",
    "    {words_with_teams_json}\n",
    "\n",
    "    Now give a single word clue and a number (e.g. \"animal 4\"). Number should be between 3 and 6. Clue word can be super specific if needed.\n",
    "    Try to be cool and go for a lot of connected words.\n",
    "    \"\"\"\n",
    "    response = client.chat.completions.create(\n",
    "        messages=[\n",
    "            {\n",
    "                \"role\": \"user\",\n",
    "                \"content\": content,\n",
    "            }\n",
    "        ],\n",
    "        model=model,\n",
    "    #     model=\"gpt-3.5-turbo\",\n",
    "    )\n",
    "    output = response.choices[0].message.content\n",
    "    clue, number = output.strip('\"').strip(\"'\").lower().split()\n",
    "    return clue, number\n",
    "\n",
    "def get_team_choices(clue_word, clue_number, words, model=\"gpt-4\"):\n",
    "    words_json = json.dumps(list(words))\n",
    "\n",
    "    content = f\"\"\"\n",
    "    You are playing the codenames game where you will be given a clue and a number. You need to find the relevant words \n",
    "    for the clue up to that number. The words are:\n",
    "    {words_json}\n",
    "\n",
    "    And the clue and number are \"{clue_word} {clue_number}\". List the words as a python list starting with most confident/relevant to least (eg. `[\"foo\", \"bar\", ...]`) with no other text.\n",
    "    \"\"\"\n",
    "    response = client.chat.completions.create(\n",
    "        messages=[\n",
    "            {\n",
    "                \"role\": \"user\",\n",
    "                \"content\": content,\n",
    "            }\n",
    "        ],\n",
    "        model=model,\n",
    "    )\n",
    "    output = response.choices[0].message.content\n",
    "    choices = ast.literal_eval(output.lower())\n",
    "    return choices\n"
   ]
  },
  {
   "cell_type": "code",
   "execution_count": 105,
   "id": "9e93c7ea",
   "metadata": {
    "ExecuteTime": {
     "end_time": "2024-02-24T02:30:50.025365Z",
     "start_time": "2024-02-24T02:30:49.054345Z"
    }
   },
   "outputs": [
    {
     "data": {
      "text/plain": [
       "SyncPage[Model](data=[Model(id='gpt-4-vision-preview', created=1698894917, object='model', owned_by='system'), Model(id='dall-e-3', created=1698785189, object='model', owned_by='system'), Model(id='gpt-3.5-turbo-0613', created=1686587434, object='model', owned_by='openai'), Model(id='text-embedding-3-large', created=1705953180, object='model', owned_by='system'), Model(id='gpt-3.5-turbo-instruct-0914', created=1694122472, object='model', owned_by='system'), Model(id='dall-e-2', created=1698798177, object='model', owned_by='system'), Model(id='whisper-1', created=1677532384, object='model', owned_by='openai-internal'), Model(id='tts-1-hd-1106', created=1699053533, object='model', owned_by='system'), Model(id='tts-1-hd', created=1699046015, object='model', owned_by='system'), Model(id='babbage-002', created=1692634615, object='model', owned_by='system'), Model(id='text-embedding-ada-002', created=1671217299, object='model', owned_by='openai-internal'), Model(id='gpt-3.5-turbo-0125', created=1706048358, object='model', owned_by='system'), Model(id='gpt-3.5-turbo', created=1677610602, object='model', owned_by='openai'), Model(id='text-embedding-3-small', created=1705948997, object='model', owned_by='system'), Model(id='gpt-3.5-turbo-0301', created=1677649963, object='model', owned_by='openai'), Model(id='gpt-3.5-turbo-16k', created=1683758102, object='model', owned_by='openai-internal'), Model(id='gpt-3.5-turbo-instruct', created=1692901427, object='model', owned_by='system'), Model(id='gpt-4-1106-preview', created=1698957206, object='model', owned_by='system'), Model(id='tts-1', created=1681940951, object='model', owned_by='openai-internal'), Model(id='tts-1-1106', created=1699053241, object='model', owned_by='system'), Model(id='gpt-4-0125-preview', created=1706037612, object='model', owned_by='system'), Model(id='gpt-3.5-turbo-1106', created=1698959748, object='model', owned_by='system'), Model(id='gpt-4', created=1687882411, object='model', owned_by='openai'), Model(id='gpt-4-turbo-preview', created=1706037777, object='model', owned_by='system'), Model(id='gpt-4-0613', created=1686588896, object='model', owned_by='openai'), Model(id='gpt-3.5-turbo-16k-0613', created=1685474247, object='model', owned_by='openai'), Model(id='davinci-002', created=1692634301, object='model', owned_by='system')], object='list')"
      ]
     },
     "execution_count": 105,
     "metadata": {},
     "output_type": "execute_result"
    }
   ],
   "source": [
    "client.models.list()"
   ]
  },
  {
   "cell_type": "code",
   "execution_count": 166,
   "id": "df04f3a1",
   "metadata": {
    "ExecuteTime": {
     "end_time": "2024-02-24T03:31:02.330928Z",
     "start_time": "2024-02-24T03:17:18.556173Z"
    }
   },
   "outputs": [
    {
     "data": {
      "application/vnd.jupyter.widget-view+json": {
       "model_id": "3ccf6aa15ccb4961867b37df0ab820cd",
       "version_major": 2,
       "version_minor": 0
      },
      "text/plain": [
       "  0%|          | 0/50 [00:00<?, ?it/s]"
      ]
     },
     "metadata": {},
     "output_type": "display_data"
    },
    {
     "data": {
      "application/vnd.jupyter.widget-view+json": {
       "model_id": "159b44e7e7ba46ad9efbbd8187f6a9c2",
       "version_major": 2,
       "version_minor": 0
      },
      "text/plain": [
       "  0%|          | 0/50 [00:00<?, ?it/s]"
      ]
     },
     "metadata": {},
     "output_type": "display_data"
    },
    {
     "data": {
      "application/vnd.jupyter.widget-view+json": {
       "model_id": "aa396b961b6f4ec29ea329105e406853",
       "version_major": 2,
       "version_minor": 0
      },
      "text/plain": [
       "  0%|          | 0/50 [00:00<?, ?it/s]"
      ]
     },
     "metadata": {},
     "output_type": "display_data"
    }
   ],
   "source": [
    "data = []\n",
    "\n",
    "for model in [\"gpt-3.5-turbo\",\"gpt-4\",\"gpt-4-turbo-preview\"]:\n",
    "    for seed in tqdm(range(50,100)):\n",
    "        d = dict()\n",
    "        d[\"seed\"] = seed\n",
    "        d[\"model\"] = model\n",
    "\n",
    "        np.random.seed(seed)\n",
    "\n",
    "        teams = [\"blue\"]*7 + [\"red\"]*8 + [\"neutral\"]*9 + [\"assassin\"]\n",
    "        np.random.shuffle(teams)\n",
    "        words = np.random.choice(all_words, size=25, replace=False)\n",
    "        words_with_teams = [{\"word\":word,\"team\":team} for i, word, team in zip(range(len(words)), words, teams)]\n",
    "\n",
    "        blue_words = [x[\"word\"] for x in words_with_teams if x[\"team\"] == \"blue\"]\n",
    "        red_words = [x[\"word\"] for x in words_with_teams if x[\"team\"] == \"red\"]\n",
    "        neutral_words = [x[\"word\"] for x in words_with_teams if x[\"team\"] == \"neutral\"]\n",
    "        assassin_words = [x[\"word\"] for x in words_with_teams if x[\"team\"] == \"assassin\"]\n",
    "\n",
    "        try:\n",
    "            clue_word, clue_number = get_spymaster_clue_number(words_with_teams, model=model)\n",
    "            choices = get_team_choices(clue_word, clue_number, words, model=model)\n",
    "        except:\n",
    "            data.append(d)\n",
    "            continue\n",
    "            pass\n",
    "\n",
    "        d[\"blue_words\"] = blue_words\n",
    "        d[\"red_words\"] = red_words\n",
    "        d[\"neutral_words\"] = neutral_words\n",
    "        d[\"assassin_words\"] = assassin_words\n",
    "        d[\"clue_word\"] = clue_word\n",
    "        d[\"clue_number\"] = clue_number\n",
    "        d[\"choices\"] = choices\n",
    "\n",
    "        d[\"assassinated\"] = any(c in assassin_words for c in choices)\n",
    "        points = 0\n",
    "        for c in choices:\n",
    "            if c in blue_words:\n",
    "                points += 1\n",
    "            else:\n",
    "                break\n",
    "        d[\"points\"] = points\n",
    "        data.append(d)"
   ]
  },
  {
   "cell_type": "code",
   "execution_count": 167,
   "id": "54e0705d",
   "metadata": {
    "ExecuteTime": {
     "end_time": "2024-02-24T03:31:02.334844Z",
     "start_time": "2024-02-24T03:31:02.332271Z"
    }
   },
   "outputs": [],
   "source": [
    "df = pd.DataFrame(data)"
   ]
  },
  {
   "cell_type": "code",
   "execution_count": 168,
   "id": "fbede5de",
   "metadata": {
    "ExecuteTime": {
     "end_time": "2024-02-24T03:31:02.341348Z",
     "start_time": "2024-02-24T03:31:02.335947Z"
    }
   },
   "outputs": [],
   "source": [
    "# df.to_parquet(\"experiments_v1.parquet\")\n",
    "# df.to_parquet(\"experiments_v2.parquet\")"
   ]
  },
  {
   "cell_type": "code",
   "execution_count": 181,
   "id": "4151c0ca",
   "metadata": {
    "ExecuteTime": {
     "end_time": "2024-02-24T03:32:37.109230Z",
     "start_time": "2024-02-24T03:32:37.092375Z"
    }
   },
   "outputs": [
    {
     "data": {
      "text/html": [
       "<div>\n",
       "<style scoped>\n",
       "    .dataframe tbody tr th:only-of-type {\n",
       "        vertical-align: middle;\n",
       "    }\n",
       "\n",
       "    .dataframe tbody tr th {\n",
       "        vertical-align: top;\n",
       "    }\n",
       "\n",
       "    .dataframe thead th {\n",
       "        text-align: right;\n",
       "    }\n",
       "</style>\n",
       "<table border=\"1\" class=\"dataframe\">\n",
       "  <thead>\n",
       "    <tr style=\"text-align: right;\">\n",
       "      <th></th>\n",
       "      <th>seed</th>\n",
       "      <th>model</th>\n",
       "      <th>blue_words</th>\n",
       "      <th>red_words</th>\n",
       "      <th>neutral_words</th>\n",
       "      <th>assassin_words</th>\n",
       "      <th>clue_word</th>\n",
       "      <th>clue_number</th>\n",
       "      <th>choices</th>\n",
       "      <th>assassinated</th>\n",
       "      <th>points</th>\n",
       "    </tr>\n",
       "  </thead>\n",
       "  <tbody>\n",
       "    <tr>\n",
       "      <th>0</th>\n",
       "      <td>0</td>\n",
       "      <td>gpt-3.5-turbo</td>\n",
       "      <td>[poison, heart, bat, missile, switch, straw, l...</td>\n",
       "      <td>[apple, lap, ship, face, leprechaun, mine, sho...</td>\n",
       "      <td>[capital, scuba diver, time, ivory, pie, park,...</td>\n",
       "      <td>[soul]</td>\n",
       "      <td>weapon</td>\n",
       "      <td>4</td>\n",
       "      <td>[missile, bomb, mine, laser]</td>\n",
       "      <td>False</td>\n",
       "      <td>1.0</td>\n",
       "    </tr>\n",
       "    <tr>\n",
       "      <th>1</th>\n",
       "      <td>1</td>\n",
       "      <td>gpt-3.5-turbo</td>\n",
       "      <td>[jet, spine, amazon, organ, field, net, penguin]</td>\n",
       "      <td>[turkey, hood, pants, plane, skyscraper, time,...</td>\n",
       "      <td>[band, alps, mass, temple, embassy, tower, lio...</td>\n",
       "      <td>[check]</td>\n",
       "      <td>space</td>\n",
       "      <td>4</td>\n",
       "      <td>[moon, belt, space, skyscraper]</td>\n",
       "      <td>False</td>\n",
       "      <td>0.0</td>\n",
       "    </tr>\n",
       "    <tr>\n",
       "      <th>2</th>\n",
       "      <td>2</td>\n",
       "      <td>gpt-3.5-turbo</td>\n",
       "      <td>None</td>\n",
       "      <td>None</td>\n",
       "      <td>None</td>\n",
       "      <td>None</td>\n",
       "      <td>None</td>\n",
       "      <td>None</td>\n",
       "      <td>None</td>\n",
       "      <td>None</td>\n",
       "      <td>NaN</td>\n",
       "    </tr>\n",
       "    <tr>\n",
       "      <th>3</th>\n",
       "      <td>3</td>\n",
       "      <td>gpt-3.5-turbo</td>\n",
       "      <td>[germany, beijing, seal, check, pipe, back, log]</td>\n",
       "      <td>[cover, lab, needle, thumb, rock, mammoth, rac...</td>\n",
       "      <td>[tablet, plate, concert, ball, straw, iron, fe...</td>\n",
       "      <td>[aztec]</td>\n",
       "      <td>music</td>\n",
       "      <td>5</td>\n",
       "      <td>[concert, ball, racket, rock, circle]</td>\n",
       "      <td>False</td>\n",
       "      <td>0.0</td>\n",
       "    </tr>\n",
       "    <tr>\n",
       "      <th>4</th>\n",
       "      <td>4</td>\n",
       "      <td>gpt-3.5-turbo</td>\n",
       "      <td>[kid, princess, ambulance, pitch, plot, lock, ...</td>\n",
       "      <td>[church, theater, pyramid, face, pit, part, nu...</td>\n",
       "      <td>[chest, police, mouth, march, ice cream, lawye...</td>\n",
       "      <td>[pirate]</td>\n",
       "      <td>treasure</td>\n",
       "      <td>4</td>\n",
       "      <td>[chest, pirate, treasure, pyramid]</td>\n",
       "      <td>True</td>\n",
       "      <td>0.0</td>\n",
       "    </tr>\n",
       "    <tr>\n",
       "      <th>...</th>\n",
       "      <td>...</td>\n",
       "      <td>...</td>\n",
       "      <td>...</td>\n",
       "      <td>...</td>\n",
       "      <td>...</td>\n",
       "      <td>...</td>\n",
       "      <td>...</td>\n",
       "      <td>...</td>\n",
       "      <td>...</td>\n",
       "      <td>...</td>\n",
       "      <td>...</td>\n",
       "    </tr>\n",
       "    <tr>\n",
       "      <th>295</th>\n",
       "      <td>95</td>\n",
       "      <td>gpt-4-turbo-preview</td>\n",
       "      <td>[bug, pit, switch, bridge, drill, stick, spike]</td>\n",
       "      <td>[cotton, soul, scorpion, carrot, kangaroo, pan...</td>\n",
       "      <td>[copper, ring, strike, square, gold, fish, mod...</td>\n",
       "      <td>[shoe]</td>\n",
       "      <td>insect</td>\n",
       "      <td>3</td>\n",
       "      <td>[bug, scorpion, spike]</td>\n",
       "      <td>False</td>\n",
       "      <td>1.0</td>\n",
       "    </tr>\n",
       "    <tr>\n",
       "      <th>296</th>\n",
       "      <td>96</td>\n",
       "      <td>gpt-4-turbo-preview</td>\n",
       "      <td>[iron, mammoth, helicopter, spine, apple, ice,...</td>\n",
       "      <td>[switch, cap, chocolate, crash, vet, duck, com...</td>\n",
       "      <td>[match, antarctica, america, racket, ball, loc...</td>\n",
       "      <td>[knife]</td>\n",
       "      <td>prehistoric</td>\n",
       "      <td>3</td>\n",
       "      <td>[mammoth, antarctica, ice]</td>\n",
       "      <td>False</td>\n",
       "      <td>1.0</td>\n",
       "    </tr>\n",
       "    <tr>\n",
       "      <th>297</th>\n",
       "      <td>97</td>\n",
       "      <td>gpt-4-turbo-preview</td>\n",
       "      <td>[atlantis, shop, hood, laser, green, pupil, cl...</td>\n",
       "      <td>[server, marble, china, bank, mammoth, casino,...</td>\n",
       "      <td>[ship, scientist, pan, wave, state, tower, pou...</td>\n",
       "      <td>[ambulance]</td>\n",
       "      <td>legendary</td>\n",
       "      <td>4</td>\n",
       "      <td>[atlantis, mammoth, casino, ship]</td>\n",
       "      <td>False</td>\n",
       "      <td>1.0</td>\n",
       "    </tr>\n",
       "    <tr>\n",
       "      <th>298</th>\n",
       "      <td>98</td>\n",
       "      <td>gpt-4-turbo-preview</td>\n",
       "      <td>None</td>\n",
       "      <td>None</td>\n",
       "      <td>None</td>\n",
       "      <td>None</td>\n",
       "      <td>None</td>\n",
       "      <td>None</td>\n",
       "      <td>None</td>\n",
       "      <td>None</td>\n",
       "      <td>NaN</td>\n",
       "    </tr>\n",
       "    <tr>\n",
       "      <th>299</th>\n",
       "      <td>99</td>\n",
       "      <td>gpt-4-turbo-preview</td>\n",
       "      <td>[moscow, opera, war, america, snowman, unicorn...</td>\n",
       "      <td>[cotton, mercury, berry, vacuum, washer, holly...</td>\n",
       "      <td>[microscope, ice cream, lion, thief, duck, gro...</td>\n",
       "      <td>[march]</td>\n",
       "      <td>capital</td>\n",
       "      <td>4</td>\n",
       "      <td>[moscow, america, hollywood, march]</td>\n",
       "      <td>True</td>\n",
       "      <td>2.0</td>\n",
       "    </tr>\n",
       "  </tbody>\n",
       "</table>\n",
       "<p>300 rows × 11 columns</p>\n",
       "</div>"
      ],
      "text/plain": [
       "     seed                model  \\\n",
       "0       0        gpt-3.5-turbo   \n",
       "1       1        gpt-3.5-turbo   \n",
       "2       2        gpt-3.5-turbo   \n",
       "3       3        gpt-3.5-turbo   \n",
       "4       4        gpt-3.5-turbo   \n",
       "..    ...                  ...   \n",
       "295    95  gpt-4-turbo-preview   \n",
       "296    96  gpt-4-turbo-preview   \n",
       "297    97  gpt-4-turbo-preview   \n",
       "298    98  gpt-4-turbo-preview   \n",
       "299    99  gpt-4-turbo-preview   \n",
       "\n",
       "                                            blue_words  \\\n",
       "0    [poison, heart, bat, missile, switch, straw, l...   \n",
       "1     [jet, spine, amazon, organ, field, net, penguin]   \n",
       "2                                                 None   \n",
       "3     [germany, beijing, seal, check, pipe, back, log]   \n",
       "4    [kid, princess, ambulance, pitch, plot, lock, ...   \n",
       "..                                                 ...   \n",
       "295    [bug, pit, switch, bridge, drill, stick, spike]   \n",
       "296  [iron, mammoth, helicopter, spine, apple, ice,...   \n",
       "297  [atlantis, shop, hood, laser, green, pupil, cl...   \n",
       "298                                               None   \n",
       "299  [moscow, opera, war, america, snowman, unicorn...   \n",
       "\n",
       "                                             red_words  \\\n",
       "0    [apple, lap, ship, face, leprechaun, mine, sho...   \n",
       "1    [turkey, hood, pants, plane, skyscraper, time,...   \n",
       "2                                                 None   \n",
       "3    [cover, lab, needle, thumb, rock, mammoth, rac...   \n",
       "4    [church, theater, pyramid, face, pit, part, nu...   \n",
       "..                                                 ...   \n",
       "295  [cotton, soul, scorpion, carrot, kangaroo, pan...   \n",
       "296  [switch, cap, chocolate, crash, vet, duck, com...   \n",
       "297  [server, marble, china, bank, mammoth, casino,...   \n",
       "298                                               None   \n",
       "299  [cotton, mercury, berry, vacuum, washer, holly...   \n",
       "\n",
       "                                         neutral_words assassin_words  \\\n",
       "0    [capital, scuba diver, time, ivory, pie, park,...         [soul]   \n",
       "1    [band, alps, mass, temple, embassy, tower, lio...        [check]   \n",
       "2                                                 None           None   \n",
       "3    [tablet, plate, concert, ball, straw, iron, fe...        [aztec]   \n",
       "4    [chest, police, mouth, march, ice cream, lawye...       [pirate]   \n",
       "..                                                 ...            ...   \n",
       "295  [copper, ring, strike, square, gold, fish, mod...         [shoe]   \n",
       "296  [match, antarctica, america, racket, ball, loc...        [knife]   \n",
       "297  [ship, scientist, pan, wave, state, tower, pou...    [ambulance]   \n",
       "298                                               None           None   \n",
       "299  [microscope, ice cream, lion, thief, duck, gro...        [march]   \n",
       "\n",
       "       clue_word clue_number                                choices  \\\n",
       "0         weapon           4           [missile, bomb, mine, laser]   \n",
       "1          space           4        [moon, belt, space, skyscraper]   \n",
       "2           None        None                                   None   \n",
       "3          music           5  [concert, ball, racket, rock, circle]   \n",
       "4       treasure           4     [chest, pirate, treasure, pyramid]   \n",
       "..           ...         ...                                    ...   \n",
       "295       insect           3                 [bug, scorpion, spike]   \n",
       "296  prehistoric           3             [mammoth, antarctica, ice]   \n",
       "297    legendary           4      [atlantis, mammoth, casino, ship]   \n",
       "298         None        None                                   None   \n",
       "299      capital           4    [moscow, america, hollywood, march]   \n",
       "\n",
       "    assassinated  points  \n",
       "0          False     1.0  \n",
       "1          False     0.0  \n",
       "2           None     NaN  \n",
       "3          False     0.0  \n",
       "4           True     0.0  \n",
       "..           ...     ...  \n",
       "295        False     1.0  \n",
       "296        False     1.0  \n",
       "297        False     1.0  \n",
       "298         None     NaN  \n",
       "299         True     2.0  \n",
       "\n",
       "[300 rows x 11 columns]"
      ]
     },
     "execution_count": 181,
     "metadata": {},
     "output_type": "execute_result"
    }
   ],
   "source": [
    "df = pd.concat([\n",
    "    pd.read_parquet(\"experiments_v1.parquet\"),\n",
    "    pd.read_parquet(\"experiments_v2.parquet\")\n",
    "]).drop_duplicates([\"seed\",\"model\"]).reset_index(drop=True)\n",
    "df"
   ]
  },
  {
   "cell_type": "code",
   "execution_count": null,
   "id": "b10d6517",
   "metadata": {
    "ExecuteTime": {
     "end_time": "2024-02-24T03:07:55.820515Z",
     "start_time": "2024-02-24T03:07:55.806059Z"
    }
   },
   "outputs": [],
   "source": []
  },
  {
   "cell_type": "code",
   "execution_count": null,
   "id": "b7b4c41c",
   "metadata": {
    "ExecuteTime": {
     "end_time": "2024-02-24T03:13:35.707604Z",
     "start_time": "2024-02-24T03:13:35.704008Z"
    }
   },
   "outputs": [],
   "source": []
  },
  {
   "cell_type": "code",
   "execution_count": 182,
   "id": "aa0c4d9d",
   "metadata": {
    "ExecuteTime": {
     "end_time": "2024-02-24T03:32:38.132056Z",
     "start_time": "2024-02-24T03:32:38.128093Z"
    }
   },
   "outputs": [],
   "source": [
    "df[\"clue_number\"] = df[\"clue_number\"].astype(float)\n",
    "df[\"points\"] = df[\"points\"].astype(float)\n",
    "\n",
    "df[\"points\"] = (1 - df[\"assassinated\"])*df[\"points\"]\n",
    "\n",
    "df[\"api_failed\"] = df[\"points\"].isna()\n",
    "\n",
    "df[\"points_norm\"] = df[\"points\"]/df[\"clue_number\"]"
   ]
  },
  {
   "cell_type": "code",
   "execution_count": 222,
   "id": "ace380df",
   "metadata": {
    "ExecuteTime": {
     "end_time": "2024-02-24T03:57:26.286436Z",
     "start_time": "2024-02-24T03:57:26.270400Z"
    }
   },
   "outputs": [
    {
     "data": {
      "text/plain": [
       "model\n",
       "gpt-3.5-turbo          0.14\n",
       "gpt-4                  0.00\n",
       "gpt-4-turbo-preview    0.14\n",
       "Name: api_failed, dtype: float64"
      ]
     },
     "execution_count": 222,
     "metadata": {},
     "output_type": "execute_result"
    }
   ],
   "source": [
    "df.groupby(\"model\")[\"api_failed\"].mean()"
   ]
  },
  {
   "cell_type": "code",
   "execution_count": 184,
   "id": "01de51e6",
   "metadata": {
    "ExecuteTime": {
     "end_time": "2024-02-24T03:32:38.960184Z",
     "start_time": "2024-02-24T03:32:38.945319Z"
    }
   },
   "outputs": [
    {
     "data": {
      "text/html": [
       "<div>\n",
       "<style scoped>\n",
       "    .dataframe tbody tr th:only-of-type {\n",
       "        vertical-align: middle;\n",
       "    }\n",
       "\n",
       "    .dataframe tbody tr th {\n",
       "        vertical-align: top;\n",
       "    }\n",
       "\n",
       "    .dataframe thead th {\n",
       "        text-align: right;\n",
       "    }\n",
       "</style>\n",
       "<table border=\"1\" class=\"dataframe\">\n",
       "  <thead>\n",
       "    <tr style=\"text-align: right;\">\n",
       "      <th></th>\n",
       "      <th>mean</th>\n",
       "      <th>median</th>\n",
       "    </tr>\n",
       "    <tr>\n",
       "      <th>model</th>\n",
       "      <th></th>\n",
       "      <th></th>\n",
       "    </tr>\n",
       "  </thead>\n",
       "  <tbody>\n",
       "    <tr>\n",
       "      <th>gpt-3.5-turbo</th>\n",
       "      <td>3.872093</td>\n",
       "      <td>4.0</td>\n",
       "    </tr>\n",
       "    <tr>\n",
       "      <th>gpt-4</th>\n",
       "      <td>3.690000</td>\n",
       "      <td>4.0</td>\n",
       "    </tr>\n",
       "    <tr>\n",
       "      <th>gpt-4-turbo-preview</th>\n",
       "      <td>3.534884</td>\n",
       "      <td>4.0</td>\n",
       "    </tr>\n",
       "  </tbody>\n",
       "</table>\n",
       "</div>"
      ],
      "text/plain": [
       "                         mean  median\n",
       "model                                \n",
       "gpt-3.5-turbo        3.872093     4.0\n",
       "gpt-4                3.690000     4.0\n",
       "gpt-4-turbo-preview  3.534884     4.0"
      ]
     },
     "execution_count": 184,
     "metadata": {},
     "output_type": "execute_result"
    }
   ],
   "source": [
    "df.groupby(\"model\")[\"clue_number\"].agg([\"mean\",\"median\"])"
   ]
  },
  {
   "cell_type": "code",
   "execution_count": 185,
   "id": "d3365f52",
   "metadata": {
    "ExecuteTime": {
     "end_time": "2024-02-24T03:32:53.733311Z",
     "start_time": "2024-02-24T03:32:53.727049Z"
    }
   },
   "outputs": [
    {
     "data": {
      "text/html": [
       "<div>\n",
       "<style scoped>\n",
       "    .dataframe tbody tr th:only-of-type {\n",
       "        vertical-align: middle;\n",
       "    }\n",
       "\n",
       "    .dataframe tbody tr th {\n",
       "        vertical-align: top;\n",
       "    }\n",
       "\n",
       "    .dataframe thead th {\n",
       "        text-align: right;\n",
       "    }\n",
       "</style>\n",
       "<table border=\"1\" class=\"dataframe\">\n",
       "  <thead>\n",
       "    <tr style=\"text-align: right;\">\n",
       "      <th></th>\n",
       "      <th>mean</th>\n",
       "      <th>median</th>\n",
       "    </tr>\n",
       "    <tr>\n",
       "      <th>model</th>\n",
       "      <th></th>\n",
       "      <th></th>\n",
       "    </tr>\n",
       "  </thead>\n",
       "  <tbody>\n",
       "    <tr>\n",
       "      <th>gpt-3.5-turbo</th>\n",
       "      <td>0.802326</td>\n",
       "      <td>1.0</td>\n",
       "    </tr>\n",
       "    <tr>\n",
       "      <th>gpt-4</th>\n",
       "      <td>1.110000</td>\n",
       "      <td>1.0</td>\n",
       "    </tr>\n",
       "    <tr>\n",
       "      <th>gpt-4-turbo-preview</th>\n",
       "      <td>1.127907</td>\n",
       "      <td>1.0</td>\n",
       "    </tr>\n",
       "  </tbody>\n",
       "</table>\n",
       "</div>"
      ],
      "text/plain": [
       "                         mean  median\n",
       "model                                \n",
       "gpt-3.5-turbo        0.802326     1.0\n",
       "gpt-4                1.110000     1.0\n",
       "gpt-4-turbo-preview  1.127907     1.0"
      ]
     },
     "execution_count": 185,
     "metadata": {},
     "output_type": "execute_result"
    }
   ],
   "source": [
    "df.groupby(\"model\")[\"points\"].agg([\"mean\",\"median\"])"
   ]
  },
  {
   "cell_type": "code",
   "execution_count": 221,
   "id": "e394e746",
   "metadata": {
    "ExecuteTime": {
     "end_time": "2024-02-24T03:48:02.546513Z",
     "start_time": "2024-02-24T03:48:02.539815Z"
    }
   },
   "outputs": [
    {
     "data": {
      "text/html": [
       "<div>\n",
       "<style scoped>\n",
       "    .dataframe tbody tr th:only-of-type {\n",
       "        vertical-align: middle;\n",
       "    }\n",
       "\n",
       "    .dataframe tbody tr th {\n",
       "        vertical-align: top;\n",
       "    }\n",
       "\n",
       "    .dataframe thead th {\n",
       "        text-align: right;\n",
       "    }\n",
       "</style>\n",
       "<table border=\"1\" class=\"dataframe\">\n",
       "  <thead>\n",
       "    <tr style=\"text-align: right;\">\n",
       "      <th></th>\n",
       "      <th>mean</th>\n",
       "      <th>std</th>\n",
       "      <th>count</th>\n",
       "      <th>median</th>\n",
       "    </tr>\n",
       "    <tr>\n",
       "      <th>model</th>\n",
       "      <th></th>\n",
       "      <th></th>\n",
       "      <th></th>\n",
       "      <th></th>\n",
       "    </tr>\n",
       "  </thead>\n",
       "  <tbody>\n",
       "    <tr>\n",
       "      <th>gpt-3.5-turbo</th>\n",
       "      <td>0.213953</td>\n",
       "      <td>0.243797</td>\n",
       "      <td>86</td>\n",
       "      <td>0.225000</td>\n",
       "    </tr>\n",
       "    <tr>\n",
       "      <th>gpt-4</th>\n",
       "      <td>0.319667</td>\n",
       "      <td>0.259806</td>\n",
       "      <td>100</td>\n",
       "      <td>0.333333</td>\n",
       "    </tr>\n",
       "    <tr>\n",
       "      <th>gpt-4-turbo-preview</th>\n",
       "      <td>0.330039</td>\n",
       "      <td>0.263856</td>\n",
       "      <td>86</td>\n",
       "      <td>0.333333</td>\n",
       "    </tr>\n",
       "  </tbody>\n",
       "</table>\n",
       "</div>"
      ],
      "text/plain": [
       "                         mean       std  count    median\n",
       "model                                                   \n",
       "gpt-3.5-turbo        0.213953  0.243797     86  0.225000\n",
       "gpt-4                0.319667  0.259806    100  0.333333\n",
       "gpt-4-turbo-preview  0.330039  0.263856     86  0.333333"
      ]
     },
     "execution_count": 221,
     "metadata": {},
     "output_type": "execute_result"
    }
   ],
   "source": [
    "df.groupby(\"model\")[\"points_norm\"].agg([\"mean\",\"std\",\"count\",\"median\"])"
   ]
  },
  {
   "cell_type": "code",
   "execution_count": 187,
   "id": "c7d516ed",
   "metadata": {
    "ExecuteTime": {
     "end_time": "2024-02-24T03:33:06.650733Z",
     "start_time": "2024-02-24T03:33:06.638680Z"
    }
   },
   "outputs": [
    {
     "data": {
      "text/plain": [
       "model\n",
       "gpt-3.5-turbo          0.116279\n",
       "gpt-4                  0.130000\n",
       "gpt-4-turbo-preview    0.046512\n",
       "Name: assassinated, dtype: float64"
      ]
     },
     "execution_count": 187,
     "metadata": {},
     "output_type": "execute_result"
    }
   ],
   "source": [
    "df.groupby(\"model\")[\"assassinated\"].mean()"
   ]
  },
  {
   "cell_type": "code",
   "execution_count": 188,
   "id": "67490651",
   "metadata": {
    "ExecuteTime": {
     "end_time": "2024-02-24T03:33:07.649855Z",
     "start_time": "2024-02-24T03:33:07.639122Z"
    }
   },
   "outputs": [],
   "source": [
    "s = df.pivot(index=\"seed\", columns=\"model\", values=\"points\").fillna(0)"
   ]
  },
  {
   "cell_type": "code",
   "execution_count": 189,
   "id": "1b015132",
   "metadata": {
    "ExecuteTime": {
     "end_time": "2024-02-24T03:33:09.319605Z",
     "start_time": "2024-02-24T03:33:09.312591Z"
    }
   },
   "outputs": [
    {
     "data": {
      "text/html": [
       "<div>\n",
       "<style scoped>\n",
       "    .dataframe tbody tr th:only-of-type {\n",
       "        vertical-align: middle;\n",
       "    }\n",
       "\n",
       "    .dataframe tbody tr th {\n",
       "        vertical-align: top;\n",
       "    }\n",
       "\n",
       "    .dataframe thead th {\n",
       "        text-align: right;\n",
       "    }\n",
       "</style>\n",
       "<table border=\"1\" class=\"dataframe\">\n",
       "  <thead>\n",
       "    <tr style=\"text-align: right;\">\n",
       "      <th>m2</th>\n",
       "      <th>gpt-3.5-turbo</th>\n",
       "      <th>gpt-4</th>\n",
       "      <th>gpt-4-turbo-preview</th>\n",
       "    </tr>\n",
       "    <tr>\n",
       "      <th>m1</th>\n",
       "      <th></th>\n",
       "      <th></th>\n",
       "      <th></th>\n",
       "    </tr>\n",
       "  </thead>\n",
       "  <tbody>\n",
       "    <tr>\n",
       "      <th>gpt-3.5-turbo</th>\n",
       "      <td>0.00</td>\n",
       "      <td>0.17</td>\n",
       "      <td>0.22</td>\n",
       "    </tr>\n",
       "    <tr>\n",
       "      <th>gpt-4</th>\n",
       "      <td>0.46</td>\n",
       "      <td>0.00</td>\n",
       "      <td>0.35</td>\n",
       "    </tr>\n",
       "    <tr>\n",
       "      <th>gpt-4-turbo-preview</th>\n",
       "      <td>0.43</td>\n",
       "      <td>0.23</td>\n",
       "      <td>0.00</td>\n",
       "    </tr>\n",
       "  </tbody>\n",
       "</table>\n",
       "</div>"
      ],
      "text/plain": [
       "m2                   gpt-3.5-turbo  gpt-4  gpt-4-turbo-preview\n",
       "m1                                                            \n",
       "gpt-3.5-turbo                 0.00   0.17                 0.22\n",
       "gpt-4                         0.46   0.00                 0.35\n",
       "gpt-4-turbo-preview           0.43   0.23                 0.00"
      ]
     },
     "execution_count": 189,
     "metadata": {},
     "output_type": "execute_result"
    }
   ],
   "source": [
    "df_wins = []\n",
    "for m1 in s.columns:\n",
    "    for m2 in s.columns:\n",
    "        win_rate = (s[m1] > s[m2]).mean()\n",
    "        df_wins.append(dict(m1=m1, m2=m2, win_rate=win_rate))\n",
    "df_wins = pd.DataFrame(df_wins)\n",
    "df_wins = df_wins.pivot(index=\"m1\", columns=\"m2\", values=\"win_rate\")\n",
    "df_wins"
   ]
  },
  {
   "cell_type": "code",
   "execution_count": 205,
   "id": "c75cbca9",
   "metadata": {
    "ExecuteTime": {
     "end_time": "2024-02-24T03:43:43.466872Z",
     "start_time": "2024-02-24T03:43:43.463598Z"
    }
   },
   "outputs": [
    {
     "data": {
      "text/plain": [
       "seed                                                              0\n",
       "model                                                 gpt-3.5-turbo\n",
       "blue_words        [poison, heart, bat, missile, switch, straw, l...\n",
       "red_words         [apple, lap, ship, face, leprechaun, mine, sho...\n",
       "neutral_words     [capital, scuba diver, time, ivory, pie, park,...\n",
       "assassin_words                                               [soul]\n",
       "clue_word                                                    weapon\n",
       "clue_number                                                     4.0\n",
       "choices                                [missile, bomb, mine, laser]\n",
       "assassinated                                                  False\n",
       "points                                                          1.0\n",
       "api_failed                                                    False\n",
       "points_norm                                                    0.25\n",
       "Name: 0, dtype: object"
      ]
     },
     "execution_count": 205,
     "metadata": {},
     "output_type": "execute_result"
    }
   ],
   "source": [
    "row"
   ]
  },
  {
   "cell_type": "code",
   "execution_count": 219,
   "id": "f3f25947",
   "metadata": {
    "ExecuteTime": {
     "end_time": "2024-02-24T03:46:59.276997Z",
     "start_time": "2024-02-24T03:46:59.236078Z"
    }
   },
   "outputs": [],
   "source": [
    "baselines = []\n",
    "for i, row in df.iterrows():\n",
    "    if row[\"api_failed\"]:\n",
    "        baselines.append(None)\n",
    "        continue\n",
    "    blue_words = row[\"blue_words\"].tolist()\n",
    "    assassin_words = row[\"assassin_words\"].tolist()\n",
    "    words = row[\"blue_words\"].tolist() + row[\"red_words\"].tolist() + row[\"neutral_words\"].tolist() + row[\"assassin_words\"].tolist()\n",
    "    choices = np.random.choice(words, int(row[\"clue_number\"]), replace=False)\n",
    "    assassinated = any(c in assassin_words for c in choices)\n",
    "    points = 0\n",
    "    for c in choices:\n",
    "        if c in blue_words:\n",
    "            points += 1\n",
    "        else:\n",
    "            break\n",
    "    if assassinated:\n",
    "        points = 0\n",
    "    points_norm = points/int(row[\"clue_number\"])\n",
    "    baselines.append(points_norm)"
   ]
  },
  {
   "cell_type": "code",
   "execution_count": 220,
   "id": "fa78cde2",
   "metadata": {
    "ExecuteTime": {
     "end_time": "2024-02-24T03:46:59.465208Z",
     "start_time": "2024-02-24T03:46:59.461824Z"
    }
   },
   "outputs": [
    {
     "data": {
      "text/plain": [
       "0.11464460784313724"
      ]
     },
     "execution_count": 220,
     "metadata": {},
     "output_type": "execute_result"
    }
   ],
   "source": [
    "pd.Series(baselines).mean()"
   ]
  },
  {
   "cell_type": "code",
   "execution_count": 201,
   "id": "345daac6",
   "metadata": {
    "ExecuteTime": {
     "end_time": "2024-02-24T03:42:57.251156Z",
     "start_time": "2024-02-24T03:42:57.226461Z"
    }
   },
   "outputs": [
    {
     "data": {
      "text/plain": [
       "['moscow',\n",
       " 'opera',\n",
       " 'war',\n",
       " 'america',\n",
       " 'snowman',\n",
       " 'unicorn',\n",
       " 'bridge',\n",
       " 'cotton',\n",
       " 'mercury',\n",
       " 'berry',\n",
       " 'vacuum',\n",
       " 'washer',\n",
       " 'hollywood',\n",
       " 'copper',\n",
       " 'pipe',\n",
       " 'microscope',\n",
       " 'ice cream',\n",
       " 'lion',\n",
       " 'thief',\n",
       " 'duck',\n",
       " 'ground',\n",
       " 'fence',\n",
       " 'school',\n",
       " 'eagle',\n",
       " 'march']"
      ]
     },
     "execution_count": 201,
     "metadata": {},
     "output_type": "execute_result"
    }
   ],
   "source": [
    "words"
   ]
  },
  {
   "cell_type": "code",
   "execution_count": null,
   "id": "fea2e2d9",
   "metadata": {},
   "outputs": [],
   "source": []
  }
 ],
 "metadata": {
  "kernelspec": {
   "display_name": "Python 3 (ipykernel)",
   "language": "python",
   "name": "python3"
  },
  "language_info": {
   "codemirror_mode": {
    "name": "ipython",
    "version": 3
   },
   "file_extension": ".py",
   "mimetype": "text/x-python",
   "name": "python",
   "nbconvert_exporter": "python",
   "pygments_lexer": "ipython3",
   "version": "3.9.6"
  }
 },
 "nbformat": 4,
 "nbformat_minor": 5
}
